{
  "nbformat": 4,
  "nbformat_minor": 0,
  "metadata": {
    "colab": {
      "provenance": [],
      "authorship_tag": "ABX9TyNohVoG4YRy7bG9+qKTJn9b",
      "include_colab_link": true
    },
    "kernelspec": {
      "name": "python3",
      "display_name": "Python 3"
    },
    "language_info": {
      "name": "python"
    }
  },
  "cells": [
    {
      "cell_type": "markdown",
      "metadata": {
        "id": "view-in-github",
        "colab_type": "text"
      },
      "source": [
        "<a href=\"https://colab.research.google.com/github/tom-locatelli47/Python/blob/main/POO_20_03.ipynb\" target=\"_parent\"><img src=\"https://colab.research.google.com/assets/colab-badge.svg\" alt=\"Open In Colab\"/></a>"
      ]
    },
    {
      "cell_type": "markdown",
      "source": [
        "1. Qual das alternativas abaixo melhor define o termo “classe”?\n",
        "\n",
        "c) É a personificação de um objeto da vida real."
      ],
      "metadata": {
        "id": "yS57pwtzXJlv"
      }
    },
    {
      "cell_type": "markdown",
      "source": [
        "2. Qual das alternativas abaixo melhor define o termo “objeto”?\n",
        "\n",
        "a) Um objeto nos dá a capacidade de trabalhar com a classe e ter várias instâncias desta mesma classe."
      ],
      "metadata": {
        "id": "TcxzV5l3XQj3"
      }
    },
    {
      "cell_type": "markdown",
      "source": [
        "3. Qual das alternativas abaixo melhor explica o termo \"propriedade\"?\n",
        "\n",
        "b) Uma variável dentro de uma classe"
      ],
      "metadata": {
        "id": "H4hQxfiEXXrJ"
      }
    },
    {
      "cell_type": "markdown",
      "source": [
        "4. Qual das alternativas abaixo melhor explica o termo \"método\"?\n",
        "\n",
        "a) Uma função dentro de uma classe."
      ],
      "metadata": {
        "id": "pExzP_URXe24"
      }
    },
    {
      "cell_type": "markdown",
      "source": [
        "5. Escreva o que você acha que deveria ser o nome da classe, os nomes das propriedades para o\n",
        "primeiro e último nome (sobrenome) e o nome do método que retorna “Olá”.\n",
        "\n",
        "--------------------------------------------------------------------------\n",
        "\n",
        "Nome da classe: Usuario\n",
        "\n",
        "Propriedades: nome , sobrenome\n",
        "\n",
        "Método: acenar()\n"
      ],
      "metadata": {
        "id": "r69bVUeVXtt6"
      }
    },
    {
      "cell_type": "markdown",
      "source": [
        "6. Escreva a classe Usuario e adicione as propriedades e o método (em Python):"
      ],
      "metadata": {
        "id": "QYySeA5YX0ii"
      }
    },
    {
      "cell_type": "code",
      "source": [
        "class Usuario:\n",
        "  nome = \"\"\n",
        "  sobrenome = \"\"\n",
        "  def acenar(self):\n",
        "     return  f\"ola {self.nome} {self.sobrenome}\""
      ],
      "metadata": {
        "id": "k7tZFcnoYrWE"
      },
      "execution_count": null,
      "outputs": []
    },
    {
      "cell_type": "markdown",
      "source": [
        "7. Crie a primeira instância e chame-a de usuario1"
      ],
      "metadata": {
        "id": "Fectr9NqZp4w"
      }
    },
    {
      "cell_type": "code",
      "source": [
        "usuario1 = Usuario()"
      ],
      "metadata": {
        "id": "E9HOIzxdZrHD"
      },
      "execution_count": null,
      "outputs": []
    },
    {
      "cell_type": "markdown",
      "source": [
        "8. Defina os valores do primeiro e último nome para usuario1."
      ],
      "metadata": {
        "id": "Q-tdlSsCZw77"
      }
    },
    {
      "cell_type": "code",
      "source": [
        "usuario1.nome = \"Tomas\"\n",
        "usuario1.sobrenome =\"Locatelli\""
      ],
      "metadata": {
        "id": "D1guK3zXZ06r"
      },
      "execution_count": null,
      "outputs": []
    },
    {
      "cell_type": "markdown",
      "source": [
        "9. Obter o nome e sobrenome do usuário e imprima-os na tela com o comando print"
      ],
      "metadata": {
        "id": "yARw18OVaDay"
      }
    },
    {
      "cell_type": "code",
      "source": [
        "print(f\"{usuario1.nome} {usuario1.sobrenome}\")"
      ],
      "metadata": {
        "colab": {
          "base_uri": "https://localhost:8080/"
        },
        "id": "NOiVba3PaHcr",
        "outputId": "11816741-0f4c-4d45-f263-8d9a896a4e45"
      },
      "execution_count": null,
      "outputs": [
        {
          "output_type": "stream",
          "name": "stdout",
          "text": [
            "Tomas Locatelli\n"
          ]
        }
      ]
    },
    {
      "cell_type": "markdown",
      "source": [
        "10. Use o método que retorna “Olá” com as variáveis primeiro nome e último nome para dizer Olá ao\n",
        "usuário."
      ],
      "metadata": {
        "id": "ejOvlTWdaoqU"
      }
    },
    {
      "cell_type": "code",
      "source": [
        "print(usuario1.acenar())"
      ],
      "metadata": {
        "colab": {
          "base_uri": "https://localhost:8080/"
        },
        "id": "wdAw-wrjaxz8",
        "outputId": "e43d8314-71ae-437a-9e43-02a680063f32"
      },
      "execution_count": null,
      "outputs": [
        {
          "output_type": "stream",
          "name": "stdout",
          "text": [
            "ola Tomas Locatelli\n"
          ]
        }
      ]
    },
    {
      "cell_type": "markdown",
      "source": [
        "11. Crie (instancie) outro objeto. Chame-o de usuario2, dê a ele o primeiro nome de “Jane” e o\n",
        "sobrenome de “Silva”, e depois diga “Olá” ao usuário."
      ],
      "metadata": {
        "id": "tgzYXaaWbmu5"
      }
    },
    {
      "cell_type": "code",
      "source": [
        "usuario2 = Usuario()\n",
        "usuario2.nome = \"Jane\"\n",
        "usuario2.sobrenome = \"Silva\"\n",
        "\n",
        "print(usuario2.acenar())"
      ],
      "metadata": {
        "colab": {
          "base_uri": "https://localhost:8080/"
        },
        "id": "FgfVKsXgb-AO",
        "outputId": "3a7b7653-479d-46cc-fcca-0f3332046ff6"
      },
      "execution_count": null,
      "outputs": [
        {
          "output_type": "stream",
          "name": "stdout",
          "text": [
            "ola Jane Silva\n"
          ]
        }
      ]
    }
  ]
}