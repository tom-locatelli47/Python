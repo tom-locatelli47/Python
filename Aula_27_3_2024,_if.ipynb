{
  "nbformat": 4,
  "nbformat_minor": 0,
  "metadata": {
    "colab": {
      "provenance": [],
      "authorship_tag": "ABX9TyPMddiWgX0XD17UjQdlVRPF",
      "include_colab_link": true
    },
    "kernelspec": {
      "name": "python3",
      "display_name": "Python 3"
    },
    "language_info": {
      "name": "python"
    }
  },
  "cells": [
    {
      "cell_type": "markdown",
      "metadata": {
        "id": "view-in-github",
        "colab_type": "text"
      },
      "source": [
        "<a href=\"https://colab.research.google.com/github/tom-locatelli47/Python/blob/main/Aula_27_3_2024%2C_if.ipynb\" target=\"_parent\"><img src=\"https://colab.research.google.com/assets/colab-badge.svg\" alt=\"Open In Colab\"/></a>"
      ]
    },
    {
      "cell_type": "markdown",
      "source": [
        "2. Ler um valor e escrever se é positivo, negativo ou zero.\n"
      ],
      "metadata": {
        "id": "rdQAfIIj1cT_"
      }
    },
    {
      "cell_type": "code",
      "execution_count": null,
      "metadata": {
        "id": "MAHENWvNGPtG",
        "colab": {
          "base_uri": "https://localhost:8080/"
        },
        "outputId": "dfe73541-84ad-44cc-b3fe-5babc1801624"
      },
      "outputs": [
        {
          "output_type": "stream",
          "name": "stdout",
          "text": [
            "Digite um numero e direi se é positivo,zero ou negativo: 0\n",
            "seu numero é igual a 0\n"
          ]
        }
      ],
      "source": [
        "num1= int(input(\"Digite um numero e direi se é positivo,zero ou negativo: \"))\n",
        "if num1>0:\n",
        "  print(\"Seu numero é positivo\")\n",
        "if num1==0:\n",
        " print(\"seu numero é igual a 0\")\n",
        "else:\n",
        "  print(\"seu numero é negativo\")"
      ]
    },
    {
      "cell_type": "markdown",
      "source": [
        "3. Ler um valor e escrever a mensagem É MAIOR QUE 10! se o valor lido for maior que 10,caso contrário escrever NÃO É MAIOR QUE 10!"
      ],
      "metadata": {
        "id": "k2h_kSsW2Y1n"
      }
    },
    {
      "cell_type": "code",
      "source": [
        "num1= float(input(\"Escolha um numero e direi se é maior q 10: \"))\n",
        "\n",
        "if num1>10:\n",
        "  print(\"seu numero É MAIOR QUE 10!\")\n",
        "if num1<=10:\n",
        "  print(\"seu numero NÃO É MAIOR QUE 10!\")"
      ],
      "metadata": {
        "colab": {
          "base_uri": "https://localhost:8080/"
        },
        "id": "YJncs3lS2amX",
        "outputId": "87eb72f3-76e3-476f-950c-2b124ef1b6f6"
      },
      "execution_count": null,
      "outputs": [
        {
          "output_type": "stream",
          "name": "stdout",
          "text": [
            "Escolha um numero e direi se é maior q 10: 11\n",
            "seu numero É MAIOR QUE 10!\n"
          ]
        }
      ]
    },
    {
      "cell_type": "markdown",
      "source": [
        "4. Calcule a soma de dois números, se o resultado for maior que 10, mostre-o na tela."
      ],
      "metadata": {
        "id": "N2b0c0is3CpN"
      }
    },
    {
      "cell_type": "code",
      "source": [
        "num1=int(input(\"escolha um numero: \"))\n",
        "num2=int(input(\"escolha um numero: \"))\n",
        "num1 + num2\n",
        "if num1>10:\n",
        "  print(\"seu numero É MAIOR QUE 10!\")\n",
        "if num1<=10:\n",
        "  print(\"seu numero NÃO É MAIOR QUE 10!\")"
      ],
      "metadata": {
        "colab": {
          "base_uri": "https://localhost:8080/"
        },
        "id": "5WMvHocQ3EuQ",
        "outputId": "a1bce146-2016-47cf-f944-6fa1defa822f"
      },
      "execution_count": null,
      "outputs": [
        {
          "output_type": "stream",
          "name": "stdout",
          "text": [
            "escolha um numero: 5\n",
            "escolha um numero: 5\n",
            "seu numero NÃO É MAIOR QUE 10!\n"
          ]
        }
      ]
    },
    {
      "cell_type": "markdown",
      "source": [
        "5. Entrar com um número e informar se ele é divisível por 5.\n"
      ],
      "metadata": {
        "id": "AIEnWt1R3kkj"
      }
    },
    {
      "cell_type": "code",
      "source": [
        "num1=int(input(\"Escolha um numero: \"))\n",
        "if num1%5 == 0:\n",
        " print(\"Seu numero é divisivel por 5\")\n",
        "else:\n",
        "  print(\"seu numero nao é divisivel por 5\")"
      ],
      "metadata": {
        "colab": {
          "base_uri": "https://localhost:8080/"
        },
        "id": "C8bNcsIf3mc1",
        "outputId": "6df82d9a-4293-4d92-df7e-ea3725289196"
      },
      "execution_count": null,
      "outputs": [
        {
          "output_type": "stream",
          "name": "stdout",
          "text": [
            "Escolha um numero: 4\n",
            "seu numero nao é divisivel por 5\n"
          ]
        }
      ]
    },
    {
      "cell_type": "markdown",
      "source": [
        "6. Construir um algoritmo que indique se o número digitado está entre 20 e 90 ou não."
      ],
      "metadata": {
        "id": "55uZPdkv4V8p"
      }
    },
    {
      "cell_type": "code",
      "source": [
        "num1=int(input(\"escolha um numero: \"))\n",
        "if num1 >20 and num1<90:\n",
        "  print(\"seu numero esta entre 20 e 90\")\n",
        "else:\n",
        "  print(\"seu numero n esta entre 20 e 90\")"
      ],
      "metadata": {
        "colab": {
          "base_uri": "https://localhost:8080/"
        },
        "id": "74VRvUOO4XAF",
        "outputId": "73d29f98-b6e1-46fc-c536-91f6dd8d23f3"
      },
      "execution_count": null,
      "outputs": [
        {
          "output_type": "stream",
          "name": "stdout",
          "text": [
            "escolha um numero: 20\n",
            "seu numero n esta entre 20 e 90\n"
          ]
        }
      ]
    },
    {
      "cell_type": "markdown",
      "source": [
        "7. Ler o ano atual e o ano de nascimento de uma pessoa. Escrever uma mensagem que diga se ela poderá ou não votar este ano (não é necessário considerar o mês em que a pessoa nasceu)."
      ],
      "metadata": {
        "id": "-_rnGZjd4-vz"
      }
    },
    {
      "cell_type": "code",
      "source": [
        "ano= int(input(\"em que ano vc nasceu? \"))\n",
        "atual = int(input(\"qual o ano atual? \"))\n",
        "\n",
        "if ano - atual>= 16:\n",
        "  print(\"vc pode votar esse ano\")\n",
        "else:\n",
        "  print(\"vc n podera votar esse ano\")"
      ],
      "metadata": {
        "colab": {
          "base_uri": "https://localhost:8080/"
        },
        "id": "FRMZ3XlS5FTU",
        "outputId": "6872f181-7b08-4018-b0e2-f8792b3c3646"
      },
      "execution_count": null,
      "outputs": [
        {
          "output_type": "stream",
          "name": "stdout",
          "text": [
            "em que ano vc nasceu? 200\n",
            "qual o ano atual? 190\n",
            "vc n podera votar esse ano\n"
          ]
        }
      ]
    },
    {
      "cell_type": "markdown",
      "source": [
        "8. Entrar com o ano de nascimento de uma pessoa e imprimir a idade dela. Verificar se o ano digitado é válido."
      ],
      "metadata": {
        "id": "bs81xn-n6c3_"
      }
    },
    {
      "cell_type": "code",
      "source": [
        "nsci=int(input(\"em que ano vc nasceu?: \"))\n",
        "atual=int(input(\"qual o ano em que vc esta?: \"))\n",
        "idade=atual-nsci\n",
        "if idade>=0:\n",
        " print(f\"sua idade é {idade} anos\")\n",
        "else:\n",
        "  print(\"valores invalidos\")"
      ],
      "metadata": {
        "colab": {
          "base_uri": "https://localhost:8080/"
        },
        "id": "CA7XNlyR6fbF",
        "outputId": "d74e6bf2-0205-4cb1-dce0-5942ca304cc0"
      },
      "execution_count": null,
      "outputs": [
        {
          "output_type": "stream",
          "name": "stdout",
          "text": [
            "em que ano vc nasceu?: 2005\n",
            "qual o ano em que vc esta?: 2024\n",
            "sua idade é 19anos\n"
          ]
        }
      ]
    },
    {
      "cell_type": "markdown",
      "source": [
        "9. Entrar com a idade de uma pessoa e exibir a mensagem; Maior de idade, menor de idade ou acima de 65 anos."
      ],
      "metadata": {
        "id": "xxGT8fn08ZDa"
      }
    },
    {
      "cell_type": "code",
      "source": [
        "nasc=int(input(\"digite o ano em que vc nasceu: \"))\n",
        "ano=int(input(\"digite o ano em q vc esta: \"))\n",
        "idade=ano-nasc\n",
        "if idade<18:\n",
        "  print(\"vc é menor de idade\")\n",
        "elif idade>=18 and idade<=65:\n",
        "  print(\"vc é maior de idade\")\n",
        "else:\n",
        "  print(\"vc tem mais de 65 anos de idade\")"
      ],
      "metadata": {
        "colab": {
          "base_uri": "https://localhost:8080/"
        },
        "id": "qDY-k2yx8b97",
        "outputId": "ed954566-3112-44ca-f0e7-cbc0736a3b13"
      },
      "execution_count": null,
      "outputs": [
        {
          "output_type": "stream",
          "name": "stdout",
          "text": [
            "digite o ano em que vc nasceu: 1\n",
            "digite o ano em q vc esta: 67\n",
            "vc tem mais de 65 anos de idade\n"
          ]
        }
      ]
    },
    {
      "cell_type": "markdown",
      "source": [
        "10. Ler as notas da 1a. e 2a . avaliações de um aluno. Calcular a média aritmética simples e escrever uma mensagem que diga se o aluno foi ou não aprovado (considerar que se a nota for igual ou maior que 6 o aluno é aprovado). Escrever também a média calculada."
      ],
      "metadata": {
        "id": "Hn_B2ydg98nZ"
      }
    },
    {
      "cell_type": "code",
      "source": [
        "nota1=float(input(\"ensira o valor da sua primeira nota: \"))\n",
        "nota2=float(input(\"ensira o valor da sua segunda nota: \"))\n",
        "media= (nota1+nota2)/2\n",
        "if media>=6:\n",
        "  print(f\"sua nota é {media: .2f}, vc foi aprovado\")\n",
        "else:\n",
        "  print(f\"sua nota é {media:.2f}, vc infelizmente n foi aprovado\")"
      ],
      "metadata": {
        "colab": {
          "base_uri": "https://localhost:8080/"
        },
        "id": "BP1yYHYz-HaZ",
        "outputId": "3f220e48-934c-47b5-84c8-5666a5f31594"
      },
      "execution_count": null,
      "outputs": [
        {
          "output_type": "stream",
          "name": "stdout",
          "text": [
            "ensira o valor da sua primeira nota: 8.7\n",
            "ensira o valor da sua segunda nota: 5.7\n",
            "sua nota é  7.20, vc foi aprovado\n"
          ]
        }
      ]
    },
    {
      "cell_type": "markdown",
      "source": [
        "11. Escrever um algoritmo para ler duas notas de um aluno e escrever na tela a palavra “Aprovado” se a média das duas notas for maior ou igual a 7,0. Caso a média seja inferior a 7,0, o programa deve ler a nota do exame e calcular a média final. Se esta média for maior ou igual a 5,0, o programa deve escrever “Aprovado”, caso contrário deve escrever “Reprovado”."
      ],
      "metadata": {
        "id": "qOEsuCTK_gTx"
      }
    },
    {
      "cell_type": "code",
      "source": [
        "nota1=float(input(\"insira a nota da sua primeira avaliação: \"))\n",
        "nota2=float(input(\"insira a nota da sua segunda avaliação: \"))\n",
        "media= (nota1 + nota2)/2\n",
        "if media>=7:\n",
        "  print(\"APROVADO\")\n",
        "else:\n",
        "  exame=float(input(\"sua nota é nemor q 7, insira a nota do exame\"))\n",
        "  exame_final= (exame + media)/2\n",
        "  if exame_final>=5:\n",
        "    print(\"APROVADO\")\n",
        "  else:\n",
        "    print(\"RESPROVADO\")"
      ],
      "metadata": {
        "colab": {
          "base_uri": "https://localhost:8080/"
        },
        "id": "ywA3KfF5_l8y",
        "outputId": "7ce7b62a-3d53-421c-93fc-05da269fa91c"
      },
      "execution_count": null,
      "outputs": [
        {
          "output_type": "stream",
          "name": "stdout",
          "text": [
            "insira a nota da sua primeira avaliação: 4\n",
            "insira a nota da sua segunda avaliação: 8\n",
            "sua nota é nemor q 7, insira a nota do exame10\n",
            "APROVADO\n"
          ]
        }
      ]
    },
    {
      "cell_type": "markdown",
      "source": [
        "12. Escrever um algoritmo para ler a quantidade de horas aula dadas por dois professores e o valor por hora recebido por cada um. Mostrar na tela qual dos professores tem salário total maior."
      ],
      "metadata": {
        "id": "KwiOhQkkBOkP"
      }
    },
    {
      "cell_type": "code",
      "source": [
        "prof1=float(input(\"quantas horas de aula o primeiro professor da?: \"))\n",
        "salari1=float(input(\"qual o salario por hora que ele recebe?: \"))\n",
        "prof2=float(input(\"quantas horas de aula o segundo professor da?: \"))\n",
        "salari2=float(input(\"qual o salario por hora que ele recebe?: \"))\n",
        "\n",
        "dinheiro1= prof1 * salari1\n",
        "dinheiro2= prof2 * salari2\n",
        "\n",
        "if (prof1*salari1)>(prof2*salari2):\n",
        "  print(\"O professor 1 tem salario total maior\")\n",
        "elif (prof1*salari1) == (prof2*salari2):\n",
        "  print(\"O salario dos professores são iguais\")\n",
        "else:\n",
        "  print(\"O profesor 2 tem salario maior\")"
      ],
      "metadata": {
        "colab": {
          "base_uri": "https://localhost:8080/"
        },
        "id": "8qnp2zKHBTvg",
        "outputId": "57bdd89d-a7fb-40c9-9a80-574e657a6b4c"
      },
      "execution_count": null,
      "outputs": [
        {
          "output_type": "stream",
          "name": "stdout",
          "text": [
            "quantas horas de aula o primeiro professor da?: 4\n",
            "qual o salario por hora que ele recebe?: 4\n",
            "quantas horas de aula o segundo professor da?: 4\n",
            "qual o salario por hora que ele recebe?: 4\n",
            "O salario dos professores são iguais\n"
          ]
        }
      ]
    },
    {
      "cell_type": "markdown",
      "source": [
        "13. Faça um algoritmo que leia um número inteiro e mostre uma mensagem indicando se este número é par ou ímpar."
      ],
      "metadata": {
        "id": "ltcNzm4hDedm"
      }
    },
    {
      "cell_type": "code",
      "source": [
        "num=int(input(\"digite um nmero: \"))\n",
        "if num%2 ==0:\n",
        "  print(\"sua numero é par\")\n",
        "else:\n",
        "  print(\"seu numero é impar\" )"
      ],
      "metadata": {
        "colab": {
          "base_uri": "https://localhost:8080/"
        },
        "id": "wksIC-O5Dg9g",
        "outputId": "95e6a666-67e7-4dee-f0b0-e7b5b85556f2"
      },
      "execution_count": null,
      "outputs": [
        {
          "output_type": "stream",
          "name": "stdout",
          "text": [
            "digite um nmero: 1\n",
            "seu numero é impar\n"
          ]
        }
      ]
    },
    {
      "cell_type": "markdown",
      "source": [
        "14. Ler o nome de 2 times e o número de gols marcados na partida. Escrever o nome do vencedor. Caso não haja vencedor deverá ser impressa a palavra EMPATE."
      ],
      "metadata": {
        "id": "GKLt6Y93EIx3"
      }
    },
    {
      "cell_type": "code",
      "source": [
        "tim1=str(input(\"qual o nome do time 1?: \"))\n",
        "tim2=str(input(\"qual o nome do time 2?: \"))\n",
        "gol1=int(input(f\"quantos gols o {tim1} fez?: \"))\n",
        "gol2=int(input(f\"quantos gols o {tim2} fez?: \"))\n",
        "\n",
        "if gol1>gol2:\n",
        "  print(f\"O {tim1} Venceu\")\n",
        "elif gol1==gol2:\n",
        "  print(\"EMPATE\")\n",
        "else:\n",
        "  print(f\"O {tim2} Venceu\")\n",
        "\n"
      ],
      "metadata": {
        "colab": {
          "base_uri": "https://localhost:8080/"
        },
        "id": "D2sWB73jEYUW",
        "outputId": "3de65703-7255-48d4-bb91-3ea37d676f87"
      },
      "execution_count": null,
      "outputs": [
        {
          "output_type": "stream",
          "name": "stdout",
          "text": [
            "qual o nome do time 1?: ma\n",
            "qual o nome do time 2?: mo\n",
            "quantos gols o ma fez?: 4\n",
            "quantos gols o mo fez?: 3\n",
            "O ma Venceu\n"
          ]
        }
      ]
    },
    {
      "cell_type": "markdown",
      "source": [
        "15. Entrar com a sigla do estado de uma pessoa e imprimir uma das mensagens: “Carioca,Paulista, Mineiro ou Outros”"
      ],
      "metadata": {
        "id": "KXvuOqlBFwq0"
      }
    },
    {
      "cell_type": "code",
      "source": [
        "Estado= str(input(\"qual a sigla do seu estado?: \"))\n",
        "if Estado==\"RJ\":\n",
        "  print(\" vc é carioca\")\n",
        "elif Estado==\"SP\":\n",
        "  print(\"vc é paulista\")\n",
        "elif Estado==\"MG\":\n",
        "  print(\"vc é mineiro\")\n",
        "else:\n",
        "  print(\"outros\")"
      ],
      "metadata": {
        "colab": {
          "base_uri": "https://localhost:8080/"
        },
        "id": "HKuLEtNKFzTD",
        "outputId": "77679e1b-e15b-472c-f065-3bc9017b8a9d"
      },
      "execution_count": null,
      "outputs": [
        {
          "output_type": "stream",
          "name": "stdout",
          "text": [
            "qual a sigla do seu estado?: RJ\n",
            " vc é carioca\n"
          ]
        }
      ]
    },
    {
      "cell_type": "markdown",
      "source": [
        "16. Um comerciante comprou um produto e quer vendê-lo com um lucro de 45% se o valor da compra for menor que R$ 20,00; Caso contrário, o lucro será de 30%. Entrar com o valor do produto e imprimir o valor da venda."
      ],
      "metadata": {
        "id": "6EZgfSBjG5RB"
      }
    },
    {
      "cell_type": "code",
      "source": [
        "valor=float(input(\"qual do produto?: \"))\n",
        "if valor<20:\n",
        "   venda=(valor*0.45)+valor\n",
        "   print(f\"O produto vai ser vendido por {venda} reais\")\n",
        "else:\n",
        "  venda=(valor*0.30)+valor\n",
        "  print(f\"O produto vai ser vendidodo por {venda} reais\")"
      ],
      "metadata": {
        "colab": {
          "base_uri": "https://localhost:8080/"
        },
        "id": "1Qc-dWBaG8LI",
        "outputId": "de983af6-3efc-4c23-f213-10f4617acf32"
      },
      "execution_count": null,
      "outputs": [
        {
          "output_type": "stream",
          "name": "stdout",
          "text": [
            "qual do produto?: 20\n",
            "O produto vai ser vendidodo por 26.0 reais\n"
          ]
        }
      ]
    },
    {
      "cell_type": "markdown",
      "source": [
        "17. Entrar com um número de 1 a 12 e exibir o mês correspondente."
      ],
      "metadata": {
        "id": "pJkzJls-Ix2r"
      }
    },
    {
      "cell_type": "code",
      "source": [
        "num=int(input(\"escolha um numero de 1 a 12: \"))\n",
        "if num==1:\n",
        " print(\"janeiro\")\n",
        "elif num==2:\n",
        " print(\"fevereiro\")\n",
        "elif num==3:\n",
        " print(\"março\")\n",
        "elif num==4:\n",
        " print(\"abril\")\n",
        "elif num==5:\n",
        " print(\"maio\")\n",
        "elif num==6:\n",
        " print(\"junho\")\n",
        "elif num==7:\n",
        " print(\"julho\")\n",
        "elif num==8:\n",
        " print(\"agosto\")\n",
        "elif num==9:\n",
        " print(\"setembro\")\n",
        "elif num==10:\n",
        " print(\"outubro\")\n",
        "elif num==11:\n",
        " print(\"novembro\")\n",
        "elif num==12:\n",
        " print(\"dezembro\")\n"
      ],
      "metadata": {
        "colab": {
          "base_uri": "https://localhost:8080/"
        },
        "id": "7qAiiMXVI1KW",
        "outputId": "28c7fe7f-cdb8-4b23-8705-8fbdf647052b"
      },
      "execution_count": null,
      "outputs": [
        {
          "output_type": "stream",
          "name": "stdout",
          "text": [
            "escolha um numero de 1 a 12 5\n",
            "maio\n"
          ]
        }
      ]
    },
    {
      "cell_type": "markdown",
      "source": [
        "18. Faça um algoritmo que verifique se uma letra digitada é vogal ou consoante."
      ],
      "metadata": {
        "id": "3qz1U9PFKXPe"
      }
    },
    {
      "cell_type": "code",
      "source": [
        "letra=str(input(\"Digite UMA letra: \"))\n",
        "if letra==\"a\" or letra==\"e\" or letra==\"i\" or letra==\"o\" or letra==\"u\" or letra==\"A\" or letra==\"E\" or letra==\"I\" or letra==\"O\" or letra==\"U\":\n",
        " print(\"A letra digitada é uma vogal\")\n",
        "else:\n",
        "  print(\"a letra digitada é uma consoante\")"
      ],
      "metadata": {
        "colab": {
          "base_uri": "https://localhost:8080/"
        },
        "id": "ZMDUmbWfKZsY",
        "outputId": "a769e6a5-edc6-4747-b84e-1c5f54200343"
      },
      "execution_count": null,
      "outputs": [
        {
          "output_type": "stream",
          "name": "stdout",
          "text": [
            "Digite UMA letra: o\n",
            "A letra digitada é uma vogal\n"
          ]
        }
      ]
    },
    {
      "cell_type": "markdown",
      "source": [
        "19. Ler 2 valores (considere que não serão lidos valores iguais) e escrever o maior deles."
      ],
      "metadata": {
        "id": "sEzY1jE6L1pM"
      }
    },
    {
      "cell_type": "code",
      "source": [
        "num1=int(input(\"digite um valor: \"))\n",
        "num2=int(input(\"digite um outro valor: \"))\n",
        "if num1!=num2:\n",
        " if num1 > num2:\n",
        "  print(f\"{num1} é o maior valor\")\n",
        " else:\n",
        "  print(f\"{num2} é o maoir valor\")"
      ],
      "metadata": {
        "colab": {
          "base_uri": "https://localhost:8080/"
        },
        "id": "sj2pfH4ML39W",
        "outputId": "7cdb4a2d-2d34-43f8-ba78-f7ef08b86ba0"
      },
      "execution_count": null,
      "outputs": [
        {
          "output_type": "stream",
          "name": "stdout",
          "text": [
            "digite um valor: 3\n",
            "digite um outro valor: 4\n",
            "4 é o maoir valor\n"
          ]
        }
      ]
    },
    {
      "cell_type": "markdown",
      "source": [
        "20. Ler 2 valores (considere que não serão lidos valores iguais) e escrevê-los em ordem crescente."
      ],
      "metadata": {
        "id": "QZJooWJxMzrw"
      }
    },
    {
      "cell_type": "code",
      "source": [
        "num1=int(input(\"digte um valor: \"))\n",
        "num2=int(input(\"digite um valor: \"))\n",
        "if num1!=num2:\n",
        " if num1<num2:\n",
        "  print(f\"{num1},{num2}\")\n",
        " else:\n",
        "  print(f\"{num2},{num1}\")"
      ],
      "metadata": {
        "colab": {
          "base_uri": "https://localhost:8080/"
        },
        "id": "Rjd76ErgM4UJ",
        "outputId": "933361be-24f0-433e-8e19-805e27ba2cf9"
      },
      "execution_count": null,
      "outputs": [
        {
          "output_type": "stream",
          "name": "stdout",
          "text": [
            "digte um valor: 3\n",
            "digite um valor: 2\n",
            "2,3\n"
          ]
        }
      ]
    },
    {
      "cell_type": "markdown",
      "source": [
        "21. Ler 3 valores (considere que não serão informados valores iguais) e escrever o maior deles."
      ],
      "metadata": {
        "id": "gle0tgqmN5LY"
      }
    },
    {
      "cell_type": "code",
      "source": [
        "num1=int(input(\"digite um numero: \"))\n",
        "num2=int(input(\"digite um numero: \"))\n",
        "num3=int(input(\"digite um numero: \"))\n",
        "if num1 !=num2 !=num3:\n",
        " if num1>num2 and num1>num3:\n",
        "  print(num1)\n",
        " elif num2>num1 and num2>num3:\n",
        "  print(num2)\n",
        " else:\n",
        "  print(num3)\n"
      ],
      "metadata": {
        "colab": {
          "base_uri": "https://localhost:8080/"
        },
        "id": "uCIylcbMN9aF",
        "outputId": "943a86ed-28b8-4712-f1eb-db5fa9b3eede"
      },
      "execution_count": null,
      "outputs": [
        {
          "output_type": "stream",
          "name": "stdout",
          "text": [
            "digite um numero: 1\n",
            "digite um numero: 2\n",
            "digite um numero: 4\n",
            "4\n"
          ]
        }
      ]
    },
    {
      "cell_type": "markdown",
      "source": [
        "22. Ler 3 valores (considere que não serão informados valores iguais) e escrever a soma dos 2 maiores."
      ],
      "metadata": {
        "id": "GYArddhzSqzh"
      }
    },
    {
      "cell_type": "code",
      "source": [
        "num1=int(input(\"digite um numero: \"))\n",
        "num2=int(input(\"digite um numero: \"))\n",
        "num3=int(input(\"digite um numero: \"))\n",
        "if num1 !=num2 !=num3:\n",
        "  if num1>num2 and num3>num2:\n",
        "    print(num1 + num3)\n",
        "  if num1>num2 and num2>num3:\n",
        "    print(num1 + num2)\n",
        "  if num2>num1 and num1>num3:\n",
        "    print(num2 + num1)\n",
        "  if num2>num1 and num3>num1:\n",
        "    print(num2 + num3)"
      ],
      "metadata": {
        "colab": {
          "base_uri": "https://localhost:8080/"
        },
        "id": "gNTxLtFKSvHO",
        "outputId": "c2593ebd-7c51-4411-cf6f-358b5b06357a"
      },
      "execution_count": null,
      "outputs": [
        {
          "output_type": "stream",
          "name": "stdout",
          "text": [
            "digite um numero: 4\n",
            "digite um numero: 3\n",
            "digite um numero: 6\n",
            "10\n"
          ]
        }
      ]
    },
    {
      "cell_type": "markdown",
      "source": [
        "23. Ler 3 valores (considere que não serão informados valores iguais) e escrevê-los em ordem crescente."
      ],
      "metadata": {
        "id": "7YwGY-2uVQUd"
      }
    },
    {
      "cell_type": "code",
      "source": [
        "num1=int(input(\"digite um numero: \"))\n",
        "num2=int(input(\"digite um numero: \"))\n",
        "num3=int(input(\"digite um numero: \"))\n",
        "if num1 !=num2 !=num3:\n",
        "  if num1<num2<num3:\n",
        "    print(f\"{num1},{num2},{num3}\")\n",
        "  elif num1<num3<num2:\n",
        "    print(f\"{num1},{num3},{num2}\")\n",
        "  elif num2<num1<num3:\n",
        "    print(f\"{num2},{num1},{num3}\")\n",
        "  elif num2<num3<num1:\n",
        "    print(f\"{num2},{num3},{num1}\")\n",
        "  elif num3<num2<num1:\n",
        "    print(f\"{num3},{num2},{num1}\")\n",
        "  else:\n",
        "    print(f\"{num3},{num1},{num2}\")"
      ],
      "metadata": {
        "colab": {
          "base_uri": "https://localhost:8080/"
        },
        "id": "MoUubp9DVT1Z",
        "outputId": "5b008c7a-460b-4c23-9e4e-8d52b7d01f93"
      },
      "execution_count": null,
      "outputs": [
        {
          "output_type": "stream",
          "name": "stdout",
          "text": [
            "digite um numero: 6\n",
            "digite um numero: 8\n",
            "digite um numero: 4\n",
            "4,6,8\n"
          ]
        }
      ]
    },
    {
      "cell_type": "markdown",
      "source": [
        "24. Faça um algoritmo que leia as duas notas parciais obtidas por um aluno numa\n",
        "disciplina ao longo de um semestre, e calcule a sua média. A atribuição de conceitos obedece à tabela abaixo:"
      ],
      "metadata": {
        "id": "M4FegTNCXy8j"
      }
    },
    {
      "cell_type": "code",
      "source": [
        "#Entre 9.0 e 10.0 A\n",
        "#Entre 7.5 e 9.0 B\n",
        "#Entre 6.0 e 7.5 C\n",
        "#Entre 4.0 e 6.0 D\n",
        "#Entre 4.0 e zero E\n",
        "\n",
        "#O algoritmo deve mostrar na tela as notas, a média, o conceito correspondente e a\n",
        "#mensagem “APROVADO” se o conceito for A, B ou C ou “REPROVADO” se o conceito for D\n",
        "#ou E.\n",
        "\n",
        "nota1=float(input(\"digite o valor da sua primeira nota: \"))\n",
        "nota2=float(input(\"digite o valor da sua segunda nota: \"))\n",
        "media= (nota1 + nota2)/2\n",
        "if media>=9 and media<=10:\n",
        "  print(f\"Suas nos foram {nota1} e {nota2}, sua media foi {media} vc ficou no conceito A \\n Parbens vc foi Aprovado \")\n",
        "elif media>=7.5 and media<9:\n",
        "   print(f\"Suas nos foram {nota1} e {nota2}, sua media foi {media} vc ficou no conceito B \\n Parbens vc foi Aprovado \")\n",
        "elif media>=6 and media<7.5:\n",
        "   print(f\"Suas nos foram {nota1} e {nota2}, sua media foi {media} vc ficou no conceito C \\n Parbens vc foi Aprovado \")\n",
        "elif media>=4 and media<6:\n",
        "   print(f\"Suas nos foram {nota1} e {nota2}, sua media foi {media} vc ficou no conceito D \\n Parbens vc foi REPROVADO \")\n",
        "else:\n",
        "  print(f\"Suas nos foram {nota1} e {nota2}, sua media foi {media} vc ficou no conceito E \\n Parbens vc foi REPROVADO \")"
      ],
      "metadata": {
        "colab": {
          "base_uri": "https://localhost:8080/"
        },
        "id": "yXl7SRFDX2pC",
        "outputId": "b7d76b85-438e-4aff-d328-1ed14a6ad67e"
      },
      "execution_count": null,
      "outputs": [
        {
          "output_type": "stream",
          "name": "stdout",
          "text": [
            "digite o valor da sua primeira nota: 8\n",
            "digite o valor da sua segunda nota: 10\n",
            "Suas nos foram 8.0 e 10.0, sua media foi 9.0 vc ficou no conceito A \n",
            " Parbens vc foi Aprovado \n"
          ]
        }
      ]
    },
    {
      "cell_type": "markdown",
      "source": [
        "25. Escrever um algoritmo para ler dois valores e uma das seguintes operações a serem executadas (codificadas da seguinte forma: 1 – Adição, 2 – Subtração, 3 – Multiplicação e 4 – Divisão). Calcular e escrever o resultado dessa operação sobre os dois valores lidos.\n"
      ],
      "metadata": {
        "id": "_y--VecLbs2L"
      }
    },
    {
      "cell_type": "code",
      "source": [
        "num1= float(input(\"digite um valor: \"))\n",
        "num2= float(input(\"digite um valor: \"))\n",
        "op= int(input(\"escolha o numero correspontende a operação que deseja realizar 1 – Adição, 2 – Subtração, 3 – Multiplicação e 4 – Divisão \"))\n",
        "if op==1:\n",
        "   print(f\"{num1+num2}\")\n",
        "elif op==2:\n",
        "  print(f\"{num1-num2}\")\n",
        "elif op==3:\n",
        "  print(f\"{num1*num2}\")\n",
        "else:\n",
        "  print(f\"{num1/num2}\")"
      ],
      "metadata": {
        "colab": {
          "base_uri": "https://localhost:8080/"
        },
        "id": "XgPs-VXOcHlZ",
        "outputId": "52824cd6-eb84-4897-f091-3b0c1a10645e"
      },
      "execution_count": null,
      "outputs": [
        {
          "output_type": "stream",
          "name": "stdout",
          "text": [
            "digite um valor: 5\n",
            "digite um valor: 5\n",
            "escolha o numero correspontende a operação que deseja realizar 1 – Adição, 2 – Subtração, 3 – Multiplicação e 4 – Divisão4\n",
            "1.0\n"
          ]
        }
      ]
    },
    {
      "cell_type": "markdown",
      "source": [
        "26. Faça um algoritmo para calcular as raízes reais de uma equação quadrática: ax2 + bx +\n",
        "c = 0. Uma equação quadrática só tem raiz reais se (b2 - 4ac) for maior ou igual a\n",
        "zero. O algoritmo deverá informar as seguintes situações:\n",
        "\n",
        "\n",
        "• Se o delta calculado for negativo, a equação não possui raízes reais. Informe ao\n",
        "usuário e encerre o programa;\n",
        "\n",
        "• Se o delta calculado for igual a zero a equação possui apenas uma raiz real,\n",
        "informe-a ao usuário;\n",
        "\n",
        "• Se o delta for positivo, a equação possui duas raiz reais, informe-as ao usuário.\n"
      ],
      "metadata": {
        "id": "hjeS2r9DgXLL"
      }
    },
    {
      "cell_type": "code",
      "source": [
        "import math\n",
        "a=float(input(\"Digite o valor de a: \"))\n",
        "b=float(input(\"Digite o valor de b: \"))\n",
        "c=float(input(\"Digite o valor de c: \"))\n",
        "delta=(b**2)-(4*a*c)\n",
        "\n",
        "if delta<0:\n",
        "   print(\"o delta é negativo, logo não possui raizes reias.\")\n",
        "   exit()\n",
        "else:\n",
        "  raiz1=((-b - math.sqrt(delta))/(a*2))\n",
        "  raiz2=((-b + math.sqrt(delta))/(a*2))\n",
        "\n",
        "  if delta==0:\n",
        "   print(f\"só ha uma raiz,{raiz2}\")\n",
        "\n",
        "  else:\n",
        "    print(f\"existem duas raizes, que são {raiz1} e {raiz2}\")\n",
        "\n"
      ],
      "metadata": {
        "colab": {
          "base_uri": "https://localhost:8080/"
        },
        "id": "H-H37MpVgVR5",
        "outputId": "7e7ddec0-dc36-4533-fb60-38414fda5373"
      },
      "execution_count": null,
      "outputs": [
        {
          "output_type": "stream",
          "name": "stdout",
          "text": [
            "Digite o valor de a: 1\n",
            "Digite o valor de b: -3\n",
            "Digite o valor de c: -54\n",
            "existem duas raizes, que são -6.0 e 9.0\n"
          ]
        }
      ]
    },
    {
      "cell_type": "markdown",
      "source": [
        "27. Faça um algoritmo que leia 3 valores a, b, c, e verifique se podem ser os\n",
        "comprimentos dos lados de um triângulo. Em caso afirmativo, verifique se é “triângulo\n",
        "equilátero”, “triângulo isósceles” ou “triângulo escaleno”. Em caso negativo, escreva\n",
        "uma mensagem: “os valores lidos não formam um triângulo”. Considere que:\n",
        "\n",
        "• o comprimento de cada lado de um triângulo é menor que a soma dos\n",
        "comprimentos dos outros lados\n",
        "\n",
        "• um triângulo equilátero tem três lados iguais\n",
        "\n",
        "• um triângulo isósceles tem dois lados iguais e um diferente\n",
        "\n",
        "• um triângulo escaleno tem três lados diferentes."
      ],
      "metadata": {
        "id": "wppUiOrzmuAp"
      }
    },
    {
      "cell_type": "code",
      "source": [
        "a=float(input(\"Digite o valor de a: \"))\n",
        "b=float(input(\"Digite o valor de b: \"))\n",
        "c=float(input(\"Digite o valor de c: \"))\n",
        "\n",
        "if (a+b<c) or (b+c<a) or (a+c<b):\n",
        "  print(\"Os valores indicados não formam um triangulo.FIM\")\n",
        "  exit()\n",
        "elif a==b==c:\n",
        "  print(\"é um triangulo equilatero\")\n",
        "elif a != b != c:\n",
        "  print(\"é um triangulo escaleno\")\n",
        "else:\n",
        "  print(\"é um triangulo isosceles\")"
      ],
      "metadata": {
        "colab": {
          "base_uri": "https://localhost:8080/"
        },
        "id": "A4N7scfUm6B7",
        "outputId": "9e4d83dc-fe4b-488a-ea27-8f6a89282e9d"
      },
      "execution_count": null,
      "outputs": [
        {
          "output_type": "stream",
          "name": "stdout",
          "text": [
            "Digite o valor de a: 8\n",
            "Digite o valor de b: 7\n",
            "Digite o valor de c: 19\n",
            "Os valores indicados não formam um triangulo.FIM\n"
          ]
        }
      ]
    },
    {
      "cell_type": "markdown",
      "source": [
        "28. Escreva um algoritmo que leia 4 valores (opção, a, b, c), onde opção é um valor\n",
        "inteiro e positivo e a, b, c são quaisquer valores reais. Escreva os valores lidos da\n",
        "seguinte maneira:\n",
        "\n",
        "se opção = 1 Þ escreva os 3 valores a, b, c em ordem crescente\n",
        "\n",
        "se opção = 2 Þ escreva os 3 valores a, b, c em ordem decrescente\n",
        "\n",
        "se opção = 3 Þ escreva os 3 valores de forma que o maior valor entre a, b, c fica entre os outros 2."
      ],
      "metadata": {
        "id": "xGg8s3n4pwoD"
      }
    },
    {
      "cell_type": "code",
      "source": [
        "op=int(input(\"informe o valor da opção: \"))\n",
        "a=float(input(\"informe o valor de a: \"))\n",
        "b=float(input(\"informe o valor de b: \"))\n",
        "c=float(input(\"informe o valor de c: \"))\n",
        "\n",
        "if op<=0:\n",
        "  print(\"Opção nvalida, escolha um valor de 1 a 4\")\n",
        "  exit()\n",
        "elif op==1:\n",
        "  if a<b<c:\n",
        "    print(f\"{a},{b},{c}\")\n",
        "  if a<c<b:\n",
        "    print(f\"{a},{c},{b}\")\n",
        "  if b<a<c:\n",
        "    print(f\"{b},{a},{c}\")\n",
        "  if b<c<a:\n",
        "    print(f\"{b},{c},{a}\")\n",
        "  if c<a<b:\n",
        "    print(f\"{c},{a},{b}\")\n",
        "  if c<b<a:\n",
        "    print(f\"{c},{b},{a}\")\n",
        "\n",
        "elif op==2:\n",
        "  if a<b<c:\n",
        "    print(f\"{c},{b},{a}\")\n",
        "  if a<c<b:\n",
        "    print(f\"{b},{c},{a}\")\n",
        "  if b<a<c:\n",
        "    print(f\"{c},{a},{b}\")\n",
        "  if b<c<a:\n",
        "    print(f\"{a},{c},{b}\")\n",
        "  if c<a<b:\n",
        "    print(f\"{b},{a},{c}\")\n",
        "  if c<b<a:\n",
        "    print(f\"{a},{b},{c}\")\n",
        "\n",
        "elif op==3:\n",
        "  if a<b<c:\n",
        "    print(f\"{a},{c},{b}\")\n",
        "  if a<c<b:\n",
        "    print(f\"{a},{b},{c}\")\n",
        "  if b<a<c:\n",
        "    print(f\"{b},{c},{a}\")\n",
        "  if b<c<a:\n",
        "    print(f\"{b},{a},{c}\")\n",
        "  if c<a<b:\n",
        "    print(f\"{c},{b},{a}\")\n",
        "  if c<b<a:\n",
        "    print(f\"{c},{a},{b}\")\n"
      ],
      "metadata": {
        "id": "PzzZafe8p0hA",
        "colab": {
          "base_uri": "https://localhost:8080/"
        },
        "outputId": "bc10711b-0188-41ae-a08b-15f1a8100d15"
      },
      "execution_count": null,
      "outputs": [
        {
          "output_type": "stream",
          "name": "stdout",
          "text": [
            "informe o valor da opção: 3\n",
            "informe o valor de a: 56\n",
            "informe o valor de b: 5\n",
            "informe o valor de c: 43\n",
            "5.0,56.0,43.0\n"
          ]
        }
      ]
    },
    {
      "cell_type": "markdown",
      "source": [
        "29. Uma empresa decidiu conceder um aumento de salário a seus funcionários de acordocom a tabela:\n",
        "\n",
        "salário £ 400.00 15%\n",
        "\n",
        "400.00 < salário £ 700.00 12%\n",
        "\n",
        "700.00 < salário £ 1000.00 10%\n",
        "\n",
        "1000.00 < salário £ 1500.00 7%\n",
        "\n",
        "1500.00 < salário £ 2000.00 4%\n",
        "\n",
        "salário > 2000.00 sem aumento\n",
        "\n",
        "\n",
        "Faça um algoritmo que leia o salário atual de um funcionário e escreva o índice de aumento e o valor do salário corrigido."
      ],
      "metadata": {
        "id": "OChe7flpTpam"
      }
    },
    {
      "cell_type": "code",
      "source": [
        "salario=float(input(\"Informe seu salario: \"))\n",
        "if salario<= 400:\n",
        "   salario= (salario*0.15) + salario\n",
        "   print(f\"Seu indici de aumento foi de 15% e seu novo salario é de £{salario}\")\n",
        "elif 400<salario<=700:\n",
        "   salario= (salario*0.12) + salario\n",
        "   print(f\"Seu indici de aumento foi de 12% e seu novo salario é de £{salario}\")\n",
        "elif 700<salario<=1000:\n",
        "   salario= (salario*0.10) + salario\n",
        "   print(f\"Seu indici de aumento foi de 10% e seu novo salario é de £{salario}\")\n",
        "elif 1000<salario<=1500:\n",
        "   salario= (salario*0.07) + salario\n",
        "   print(f\"Seu indici de aumento foi de 7% e seu novo salario é de £{salario}\")\n",
        "elif 1500<salario<=2000:\n",
        "   salario= (salario*0.04) + salario\n",
        "   print(f\"Seu indici de aumento foi de 4% e seu novo salario é de £{salario}\")\n",
        "elif salario> 2000:\n",
        "   print(f\"Nao ouve aumento, seu salario continua {salario}\")"
      ],
      "metadata": {
        "colab": {
          "base_uri": "https://localhost:8080/"
        },
        "id": "HHnKIWkUTpFE",
        "outputId": "a70e793d-33e6-4870-841e-5b1eb222f979"
      },
      "execution_count": null,
      "outputs": [
        {
          "output_type": "stream",
          "name": "stdout",
          "text": [
            "Informe seu salario: 1000\n",
            "Seu indici de aumento foi de 10% e seu novo salario é de R$1100.0\n"
          ]
        }
      ]
    },
    {
      "cell_type": "markdown",
      "source": [
        "30. Faça um algoritmo para calcular o reajuste salarial de um funcionário, de acordo com os critérios abaixo:\n",
        "\n",
        "• se salário é inferior a R$ 10.000,00 deve ter um reajuste de 55%\n",
        "\n",
        "• se salário está entre R$ 10.000,00 (inclusive) e R$ 25.000,00 (inclusive) deve ter um reajuste de 20%\n",
        "\n",
        "• se salário é superior a R$ 25.000,00 deve ter um reajuste de 20%."
      ],
      "metadata": {
        "id": "8OF07ljTXphk"
      }
    },
    {
      "cell_type": "code",
      "source": [
        "salario=float(input(\"Informe seu salario: \"))\n",
        "if salario<10000:\n",
        "   reajuste=(salario*0.55)\n",
        "   print(f\"O reajuste vai ser de {reajuste}\")\n",
        "elif 10000<=salario<=25000:\n",
        "   reajuste=(salario*0.20)\n",
        "   print(f\"O reajuste vai ser de {reajuste}\")\n",
        "elif salario>25000:\n",
        "   reajuste=(salario*0.20)\n",
        "   print(f\"O reajuste vai ser de {reajuste}\")"
      ],
      "metadata": {
        "colab": {
          "base_uri": "https://localhost:8080/"
        },
        "id": "7lw9ON_kX0zF",
        "outputId": "fbf010af-5cc9-410b-df32-bf9c2a9d46c5"
      },
      "execution_count": null,
      "outputs": [
        {
          "output_type": "stream",
          "name": "stdout",
          "text": [
            "Informe seu salario: 25000\n",
            "O reajuste vai ser de 5000.0\n"
          ]
        }
      ]
    },
    {
      "cell_type": "markdown",
      "source": [
        "31. Faça um algoritmo para controle de temperatura de um forno que derrete alumínio. O programa deverá perguntar qual a temperatura que o alumínio deverá ser trabalhado e operar nas seguintes condições:\n",
        "\n",
        "• Se temperatura for inferior ou igual 500°C enviar uma mensagem para tela\n",
        "\"Temperatura Inválida\";\n",
        "\n",
        "• Se temperatura for menor do que 700°C enviar uma mensagem para tela\n",
        "\"Aquecimento Ligado em 100%\";\n",
        "\n",
        "• Se temperatura for menor do que 735°C enviar uma mensagem para tela\n",
        "\"Aquecimento Ligado em 50%\";\n",
        "\n",
        "• Se temperatura for maior ou igual 735°C enviar uma mensagem para tela\n",
        "\"Aquecimento Desligado\";\n",
        "\n",
        "• Se temperatura for maior do que 780°C enviar uma mensagem para tela\n",
        "\"Superaquecimento\";\n",
        "\n",
        "Os valores digitados devem ser inteiros e inferiores a 1000."
      ],
      "metadata": {
        "id": "3lcJ_ymGcE1M"
      }
    },
    {
      "cell_type": "code",
      "source": [
        "temp=int(input(\"Informe a temperatura do forno: \"))\n",
        "if temp<=500 or temp>1000:\n",
        "  print(\"temperatura invalida\")\n",
        "elif temp>1000:\n",
        "  print(\"temperatura superior a 1000°C\")\n",
        "  exit()\n",
        "elif temp<700:\n",
        "  print(\"Aquecimentp Ligado em 100%\")\n",
        "elif temp<735:\n",
        "  print(\"Auecimento Ligado em 50%\" )\n",
        "elif temp>=735 and temp<=780:\n",
        "  print(\"Aquecimento delisgado\")\n",
        "elif temp>780:\n",
        "  print(\"Super Aquecimento\")"
      ],
      "metadata": {
        "colab": {
          "base_uri": "https://localhost:8080/"
        },
        "id": "L8Mc9GKmcpi_",
        "outputId": "331ffb8f-42fb-48c4-cc02-396fdfe7c463"
      },
      "execution_count": null,
      "outputs": [
        {
          "output_type": "stream",
          "name": "stdout",
          "text": [
            "Informe a temperatura do forno: 656\n",
            "Aquecimentp Ligado em 100%\n"
          ]
        }
      ]
    },
    {
      "cell_type": "markdown",
      "source": [
        "32. Faça um algoritmo que permita a entrada de um valor de 1 a 4. Em seguida, leia dois valores. Calcular e imprimir:\n",
        "\n",
        "• Se valor digitado for 0, calcular e exibir a soma dos números\n",
        "\n",
        "• Se valor digitado for 1, calcular e exibir a subtração dos números\n",
        "\n",
        "• Se valor digitado for 2, calcular e exibir a multiplicação dos números\n",
        "\n",
        "• Se valor digitado for 3, calcular e exibir a divisão dos números\n",
        "\n",
        "• Se valor digitado for 4, calcular e exibir a média dos números\n",
        "\n",
        "• Diferente de 1,2,3 ou 4, exibir a mensagem “Valor errado. Programa encerrado sem cálculos”"
      ],
      "metadata": {
        "id": "A4Pjz-kMSXq7"
      }
    },
    {
      "cell_type": "code",
      "source": [
        "v=int(input(\"Digete um valor de 0 a 4: \"))\n",
        "num1=int(input(\"Digite um valor: \"))\n",
        "num2=int(input(\"digite um valor: \"))\n",
        "\n",
        "if v>4 or v<0:\n",
        "  print(\"Valor errado. Programa encerrado sem cálculos\")\n",
        "\n",
        "elif v == 0:\n",
        "  print(f\"{num1}+{num2} = {num1+num2}\")\n",
        "elif v == 1:\n",
        "  print(f\"{num1}-{num2} = {num1-num2}\")\n",
        "elif v == 2:\n",
        "  print(f\"{num1}*{num2} = {num1*num2}\")\n",
        "elif v == 3:\n",
        "  print(f\"{num1}/{num2} = {num1/num2}\")\n",
        "elif v == 4:\n",
        "  print(f\"{num1}+{num2}/2 = {(num1+num2)/2}\")"
      ],
      "metadata": {
        "colab": {
          "base_uri": "https://localhost:8080/"
        },
        "id": "T-dGg5oGS0a4",
        "outputId": "ea782222-3f80-4bbe-a246-9b4b6bfe6705"
      },
      "execution_count": null,
      "outputs": [
        {
          "output_type": "stream",
          "name": "stdout",
          "text": [
            "Digete um valor de 0 a 4: 4\n",
            "Digite um valor: 2\n",
            "digite um valor: 8\n",
            "2+8/2 = 5.0\n"
          ]
        }
      ]
    },
    {
      "cell_type": "markdown",
      "source": [
        "33. Escrever um algoritmo que leia valores inteiros em duas variáveis distintas e se o resto\n",
        "da divisão da primeira pela segunda for 1 mostre a soma dessas variáveis mais o resto\n",
        "da divisão; se for 2 escreva se o primeiro e o segundo valor são pares ou ímpares; se\n",
        "for igual a 3 multiplique a soma dos valores lidos pelo primeiro; se for igual a 4 divida\n",
        "a soma dos números lidos pelo segundo, se este for diferente de zero. Em qualquer\n",
        "outra situação mostre o quadrado dos números lidos."
      ],
      "metadata": {
        "id": "1_Hl9oVGVqVM"
      }
    },
    {
      "cell_type": "code",
      "source": [
        "v1=int(input(\"Digite um valor: \"))\n",
        "v2=int(input(\"Digite mais m valor: \"))\n",
        "\n",
        "if v1%v2 == 1:\n",
        "  print(f\" a soma dessas variaveis é {v1+v2} e o resto da divisão é 1\")\n",
        "elif v1%v2 ==2:\n",
        "  if v1%2 == 0:\n",
        "    print(f\"o primeiro valor é par\")\n",
        "  else:\n",
        "    print(\"o primeiro valor é impar\")\n",
        "  if v2%2==0:\n",
        "    print(\"o segundo valor é par\")\n",
        "  else:\n",
        "    print(\"o segundo valor é impar\")\n",
        "elif v1%v2==3:\n",
        "  print(f\"{(v1+v2)*v1}\")\n",
        "elif v1%v2==4:\n",
        "  print(f\"{(v1+v2)/v2}\")\n",
        "else:\n",
        "  print(f\"{v1**2},{v2**2}\")"
      ],
      "metadata": {
        "colab": {
          "base_uri": "https://localhost:8080/"
        },
        "id": "C_QfGEMjVtlv",
        "outputId": "ad362eb6-c3aa-4bb9-8320-771b047a7f2a"
      },
      "execution_count": null,
      "outputs": [
        {
          "output_type": "stream",
          "name": "stdout",
          "text": [
            "Digite um valor: 84\n",
            "Digite mais m valor: 3\n",
            "7056,9\n"
          ]
        }
      ]
    },
    {
      "cell_type": "markdown",
      "source": [
        "34. Escreva um algoritmo que leia as idades de 2 homens e 2 mulheres (considere que as\n",
        "idades dos homens serão sempre diferentes, bem como as das mulheres). Calcule e\n",
        "escreva a soma das idades do homem mais velho com a mulher mais nova, e o\n",
        "produto das idades do homem mais novo com a mulher mais velha."
      ],
      "metadata": {
        "id": "HZ8iqzcOWW5w"
      }
    },
    {
      "cell_type": "code",
      "source": [
        "h1=int(input(\"informe a idade do primeiro homem: \"))\n",
        "h2=int(input(\"informe a idade do segunddo homem: \"))\n",
        "m1=int(input(\"informe a idade da primeira mulher: \"))\n",
        "m2=int(input(\"informe a idade da primeira mulher: \"))\n",
        "\n",
        "if h1>h2 and m1<m2:\n",
        " print(f\"a soma das idades do homem mais velho com a mulher mais nova é {h1+m1}, e do homem mais novo com a mulher mais velha é {h2+m2}\")\n",
        "\n",
        "elif h1>h2 and m2<m1:\n",
        " print(f\"a soma das idades do homem mais velho com a mulher mais nova é {h1+m2}, e do homem mais novo com a mulher mais velha é {h2+m1}\")\n",
        "\n",
        "elif h2>h1 and m1<m2:\n",
        "  print(f\"a soma das idades do homem mais velho com a mulher mais nova é {h2+m1}, e do homem mais novo com a mulher mais velha é {h1+m2}\")\n",
        "\n",
        "elif h2>h1 and m2<m1:\n",
        "  print(f\"a soma das idades do homem mais velho com a mulher mais nova é {h2+m2}, e do homem mais novo com a mulher mais velha é {h1+m1}\")\n",
        ""
      ],
      "metadata": {
        "colab": {
          "base_uri": "https://localhost:8080/"
        },
        "id": "kxpgAaPNWWLh",
        "outputId": "069d1c59-8547-4bb9-f3e6-85091c78de07"
      },
      "execution_count": null,
      "outputs": [
        {
          "output_type": "stream",
          "name": "stdout",
          "text": [
            "informe a idade do primeiro homem: 5\n",
            "informe a idade do segunddo homem: 4\n",
            "informe a idade da primeira mulher: 6\n",
            "informe a idade da primeira mulher: 7\n",
            "a soma das idades do homem mais velho com a mulher mais nova é 11, e do homem mais novo com a mulher mais velha é 11\n"
          ]
        }
      ]
    },
    {
      "cell_type": "markdown",
      "source": [
        "35. Existem números de 4 dígitos (entre 1000 e 9999) que obedecem à seguinte\n",
        "característica: se dividirmos o número em dois números de dois dígitos, um composto pela dezena e pela unidade, e outro pelo milhar e pela centena, e, ao somarmos estes dois novos números gerando um terceiro, o quadrado deste terceiro número é exatamente o número original de quatro dígitos. Por exemplo:\n",
        "2025 -> dividindo: 20 e 25 -> somando temos 45 -> 452 = 2025.\n",
        "\n",
        "Escreva um programa para ler um número e verificar se ele obedece a esta\n",
        "característica."
      ],
      "metadata": {
        "id": "jFjvDU-_Zf3i"
      }
    },
    {
      "cell_type": "code",
      "source": [
        "num=str(input(\"digite um numero: \"))\n",
        "if len(num)==4:\n",
        "  n1= int(num[:2])\n",
        "  n2= int(num[2:])\n",
        "  n3= n1+n2\n",
        "  n4= n3**2\n",
        "  print(f\"o numero {num} se divide me {n1} e {n2}, a soma deles é {n3}, e o quadrado dessa soma é {n4}.\")\n",
        "  if n4==int(num):\n",
        "    print( \" esse numero obedece a regra!\")\n",
        "  else:\n",
        "    print(\"esse numero não obedece a regra.\")\n",
        "else:\n",
        "  print(\"Voce não digito um numero de 4 digitos.\")"
      ],
      "metadata": {
        "colab": {
          "base_uri": "https://localhost:8080/"
        },
        "id": "Yt0wAuIuZmGO",
        "outputId": "7108efb0-4b2c-4e15-879b-811fa1a59251"
      },
      "execution_count": null,
      "outputs": [
        {
          "output_type": "stream",
          "name": "stdout",
          "text": [
            "digite um numero: 2025\n",
            "o numero 2025 se divide me 20 e 25, a soma deles é 45, e o quadrado dessa soma é 2025.\n",
            " esse numero obedece a regra!\n"
          ]
        }
      ]
    }
  ]
}