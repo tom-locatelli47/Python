{
  "nbformat": 4,
  "nbformat_minor": 0,
  "metadata": {
    "colab": {
      "provenance": [],
      "authorship_tag": "ABX9TyOoNBmF7x32QS+bxUkt4K++",
      "include_colab_link": true
    },
    "kernelspec": {
      "name": "python3",
      "display_name": "Python 3"
    },
    "language_info": {
      "name": "python"
    }
  },
  "cells": [
    {
      "cell_type": "markdown",
      "metadata": {
        "id": "view-in-github",
        "colab_type": "text"
      },
      "source": [
        "<a href=\"https://colab.research.google.com/github/tom-locatelli47/Python/blob/main/POO_24_03.ipynb\" target=\"_parent\"><img src=\"https://colab.research.google.com/assets/colab-badge.svg\" alt=\"Open In Colab\"/></a>"
      ]
    },
    {
      "cell_type": "markdown",
      "source": [
        "1. Qual palavra-chave (keyword) você usaria para ter acesso às propriedades e métodos de uma classe estando dentro dela?\n",
        "\n",
        "c) A palavra-chave self"
      ],
      "metadata": {
        "id": "LmTjVgisV_n1"
      }
    },
    {
      "cell_type": "markdown",
      "source": [
        "Exercício de Codificação\n",
        "\n",
        "Na atividade prática anterior, escrevemos o método hello() dentro da classe Usuario. No exercício a seguir, adicionaremos a este método a capacidade de acessar as propriedades da classe com a palavra-chave self.\n",
        "\n",
        "A classe Usuario poderia ser codificada assim:"
      ],
      "metadata": {
        "id": "w4pALyAnWk3-"
      }
    },
    {
      "cell_type": "code",
      "source": [
        "class Usuario():\n",
        "# as propriedades\n",
        "  primeiroNome = \"\"\n",
        "  ultimoNome = \"\"\n",
        "#metodo que diz Olá ao usuario\n",
        "def hello(self):\n",
        "  return \"Olá\""
      ],
      "metadata": {
        "id": "rGnHYLZdWXAd"
      },
      "execution_count": null,
      "outputs": []
    },
    {
      "cell_type": "markdown",
      "source": [
        "2. Acrescente ao método hello() a capacidade de acessar a propriedade primeiroNome, para que\n",
        "o método possa retornar a string \"Olá, primeiroNome\"."
      ],
      "metadata": {
        "id": "c0ggd-iyAYxW"
      }
    },
    {
      "cell_type": "code",
      "source": [
        "class Usuario():\n",
        "# as propriedades\n",
        "  primeiroNome = \"\"\n",
        "  ultimoNome = \"\"\n",
        "  #metodo que diz Olá ao usuario\n",
        "  def hello(self):\n",
        "    return f\"Olá {self.primeiroNome}\""
      ],
      "metadata": {
        "id": "SPQAOEeYAaU2"
      },
      "execution_count": null,
      "outputs": []
    },
    {
      "cell_type": "markdown",
      "source": [
        "3. Crie um novo objeto com o primeiro nome de \"Jonnie\" e sobrenome de \"Bravo\"."
      ],
      "metadata": {
        "id": "TYSGGtJPApfW"
      }
    },
    {
      "cell_type": "code",
      "source": [
        "usuario1=Usuario()\n",
        "usuario1.primeiroNome = \"Jone\"\n",
        "usuario1.ultimoNome = \"Bravo\""
      ],
      "metadata": {
        "id": "VS2wu-00Ar5g"
      },
      "execution_count": null,
      "outputs": []
    },
    {
      "cell_type": "markdown",
      "source": [
        "4. Use o comando print no método hello() para o objeto usuario1 e observe o resultado."
      ],
      "metadata": {
        "id": "PH0Vn1HIBAAL"
      }
    },
    {
      "cell_type": "code",
      "source": [
        "print(usuario1.hello())"
      ],
      "metadata": {
        "colab": {
          "base_uri": "https://localhost:8080/"
        },
        "id": "cIYC9qAHBHHh",
        "outputId": "e4d4955f-4b1b-4e14-e899-af713f8d4ecb"
      },
      "execution_count": null,
      "outputs": [
        {
          "output_type": "stream",
          "name": "stdout",
          "text": [
            "Olá Jone\n"
          ]
        }
      ]
    },
    {
      "cell_type": "markdown",
      "source": [
        "![image.png](data:image/png;base64,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)"
      ],
      "metadata": {
        "id": "_Gt4le9EX8JK"
      }
    },
    {
      "cell_type": "code",
      "source": [
        "class Usuario():\n",
        "  primeiroNome = \"\"\n",
        "  ultimoNome = \"\""
      ],
      "metadata": {
        "id": "X6El7nwfYHXr"
      },
      "execution_count": null,
      "outputs": []
    },
    {
      "cell_type": "markdown",
      "source": [
        "1. Acrescente à classe Usuario um método construtor para definir um valor para a propriedade\n",
        "primeiroNome assim que o objeto for criado."
      ],
      "metadata": {
        "id": "inYOFMMbX9yy"
      }
    },
    {
      "cell_type": "code",
      "source": [
        "class Usuario():\n",
        "  def __init__(self,primeiroNome,ultimoNome):\n",
        "    self.primeiroNome = primeiroNome\n"
      ],
      "metadata": {
        "id": "LY2dIvuYYEwi"
      },
      "execution_count": null,
      "outputs": []
    },
    {
      "cell_type": "markdown",
      "source": [
        "2. Acrescente ao construtor a capacidade de definir o valor da propriedade ultimoNome, bem como a\n",
        "propriedade primeiroNome."
      ],
      "metadata": {
        "id": "AZRITmK7YSkr"
      }
    },
    {
      "cell_type": "code",
      "source": [
        "class Usuario():\n",
        "  def __init__(self,primeiroNome,ultimoNome):\n",
        "    self.primeiroNome = primeiroNome\n",
        "    self.ultimoNome = ultimoNome"
      ],
      "metadata": {
        "id": "MCVQI6UtYTaf"
      },
      "execution_count": null,
      "outputs": []
    },
    {
      "cell_type": "markdown",
      "source": [
        "3. Adicione à classe Usuario um método chamado getNomeCompleto() que retorna o nome\n",
        "completo do usuário."
      ],
      "metadata": {
        "id": "TGHdsZ50YTsc"
      }
    },
    {
      "cell_type": "code",
      "source": [
        "class Usuario():\n",
        "  def __init__(self,primeiroNome,ultimoNome):\n",
        "    self.primeiroNome = primeiroNome\n",
        "    self.ultimoNome = ultimoNome\n",
        "\n",
        "  def getNomeCompleto(self):\n",
        "    return f\"{self.primeiroNome} {self.ultimoNome}\""
      ],
      "metadata": {
        "id": "3OSbE1l-YVme"
      },
      "execution_count": null,
      "outputs": []
    },
    {
      "cell_type": "markdown",
      "source": [
        "4. Crie um novo objeto, usuario1, e passe para o construtor os valores do primeiro e último nome. O\n",
        "primeiro nome é \"Johnny\" e o sobrenome é \"Bravo\" (você pode escolher sua combinação preferida\n",
        "de primeiro e último nome)."
      ],
      "metadata": {
        "id": "_SS0ltjMYVy9"
      }
    },
    {
      "cell_type": "code",
      "source": [
        "usuario1=Usuario(\"Johnny\",\"Bravo\")\n"
      ],
      "metadata": {
        "id": "8WjQBXX7YX7U"
      },
      "execution_count": null,
      "outputs": []
    },
    {
      "cell_type": "markdown",
      "source": [
        "5. Obtenha o nome completo e imprima-o na tela."
      ],
      "metadata": {
        "id": "h4H9vqTtYYFv"
      }
    },
    {
      "cell_type": "code",
      "source": [
        "print(usuario1.getNomeCompleto())"
      ],
      "metadata": {
        "id": "Cg0CVOLKYacM",
        "outputId": "7058f0e4-44b8-4644-982d-62c3529b5191",
        "colab": {
          "base_uri": "https://localhost:8080/"
        }
      },
      "execution_count": null,
      "outputs": [
        {
          "output_type": "stream",
          "name": "stdout",
          "text": [
            "Johnny Bravo\n"
          ]
        }
      ]
    }
  ]
}