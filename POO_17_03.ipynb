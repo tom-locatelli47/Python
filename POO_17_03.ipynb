{
  "nbformat": 4,
  "nbformat_minor": 0,
  "metadata": {
    "colab": {
      "provenance": [],
      "authorship_tag": "ABX9TyM2m+KZVtZucA8QKRxnN88j",
      "include_colab_link": true
    },
    "kernelspec": {
      "name": "python3",
      "display_name": "Python 3"
    },
    "language_info": {
      "name": "python"
    }
  },
  "cells": [
    {
      "cell_type": "markdown",
      "metadata": {
        "id": "view-in-github",
        "colab_type": "text"
      },
      "source": [
        "<a href=\"https://colab.research.google.com/github/tom-locatelli47/Python/blob/main/POO_17_03.ipynb\" target=\"_parent\"><img src=\"https://colab.research.google.com/assets/colab-badge.svg\" alt=\"Open In Colab\"/></a>"
      ]
    },
    {
      "cell_type": "code",
      "execution_count": null,
      "metadata": {
        "id": "i1EJkGQ7YfPL"
      },
      "outputs": [],
      "source": [
        "class Caneta:\n",
        "  modelo = \"Faber Castell\"\n",
        "  cor = \"Preta\"\n",
        "  carga = 100\n",
        "  tampada = True\n",
        "\n",
        "  def escrever(self):\n",
        "    if Caneta.tampada == False:\n",
        "      if Caneta.carga > 0:\n",
        "        Caneta.carga -= 10\n",
        "        print(f\"Tinta restante: {Caneta.carga} Escrevendo...\")\n",
        "      else:\n",
        "        print(\"Caneta sem tinta\")\n",
        "    else:\n",
        "      print(\"Caneta tampada\")\n",
        "\n",
        "  def tampa(self):\n",
        "    if Caneta.tampada == False:\n",
        "      Caneta.tampada = True\n",
        "      print(\"Caneta Tampada\")\n",
        "    else:\n",
        "      Caneta.tampada = False\n",
        "      print(\"Caneta destampada\")\n",
        "\n",
        "caneta_faber = Caneta()"
      ]
    },
    {
      "cell_type": "code",
      "source": [
        "caneta_faber.tampa()"
      ],
      "metadata": {
        "colab": {
          "base_uri": "https://localhost:8080/"
        },
        "id": "UkXWa64uUYa4",
        "outputId": "77aad785-9b53-47a4-a66a-fdd792dd604e"
      },
      "execution_count": null,
      "outputs": [
        {
          "output_type": "stream",
          "name": "stdout",
          "text": [
            "Caneta destampada\n"
          ]
        }
      ]
    },
    {
      "cell_type": "code",
      "source": [
        "caneta_faber.escrever()"
      ],
      "metadata": {
        "colab": {
          "base_uri": "https://localhost:8080/"
        },
        "id": "eAsZxCcIU4Us",
        "outputId": "9dd99bda-af02-4485-8f95-0896f9769e48"
      },
      "execution_count": null,
      "outputs": [
        {
          "output_type": "stream",
          "name": "stdout",
          "text": [
            "Tinta restante: 80 Escrevendo...\n"
          ]
        }
      ]
    }
  ]
}