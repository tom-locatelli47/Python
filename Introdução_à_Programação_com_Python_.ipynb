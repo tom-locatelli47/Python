{
  "cells": [
    {
      "cell_type": "code",
      "execution_count": null,
      "metadata": {
        "id": "hbL1fyIz9_xk"
      },
      "outputs": [],
      "source": [
        "print (\"oi\")"
      ]
    },
    {
      "cell_type": "code",
      "execution_count": null,
      "metadata": {
        "colab": {
          "base_uri": "https://localhost:8080/"
        },
        "id": "HOAycD4z9_0W",
        "outputId": "f27001fd-96c9-42b3-cce4-767d13bd8535"
      },
      "outputs": [
        {
          "name": "stdout",
          "output_type": "stream",
          "text": [
            "8\n"
          ]
        }
      ],
      "source": [
        "a=3\n",
        "b=5\n",
        "print (a+b)"
      ]
    },
    {
      "cell_type": "code",
      "execution_count": null,
      "metadata": {
        "colab": {
          "base_uri": "https://localhost:8080/"
        },
        "id": "tLdK2-pM9_3P",
        "outputId": "430e31e8-97ab-4efa-f2c2-7f3d737eeae1"
      },
      "outputs": [
        {
          "name": "stdout",
          "output_type": "stream",
          "text": [
            "8625.0\n"
          ]
        }
      ],
      "source": [
        "salário=7500\n",
        "aumento=15%7500\n",
        "print (salário+(salário*aumento/100))"
      ]
    },
    {
      "cell_type": "code",
      "execution_count": null,
      "metadata": {
        "colab": {
          "base_uri": "https://localhost:8080/"
        },
        "id": "GwypWKsi9_6O",
        "outputId": "51da0d9c-1e3b-4f72-bc85-dfb21acff905"
      },
      "outputs": [
        {
          "name": "stdout",
          "output_type": "stream",
          "text": [
            "True\n"
          ]
        }
      ],
      "source": [
        "a=1\n",
        "b=2\n",
        "print(a<b)"
      ]
    },
    {
      "cell_type": "code",
      "execution_count": null,
      "metadata": {
        "colab": {
          "base_uri": "https://localhost:8080/"
        },
        "id": "riZWErWp988V",
        "outputId": "0f249903-64a9-4cd1-b8b6-cab069f0c018"
      },
      "outputs": [
        {
          "name": "stdout",
          "output_type": "stream",
          "text": [
            "False\n"
          ]
        }
      ],
      "source": [
        "print(not True)"
      ]
    },
    {
      "cell_type": "code",
      "execution_count": null,
      "metadata": {
        "colab": {
          "base_uri": "https://localhost:8080/"
        },
        "id": "NQeEculh_OWd",
        "outputId": "71c91403-e778-4de7-e07a-4f6989c75904"
      },
      "outputs": [
        {
          "name": "stdout",
          "output_type": "stream",
          "text": [
            "True\n"
          ]
        }
      ],
      "source": [
        "print (True and True)  # usando o \"and\" só será \"True\" se ambos forem \"True\""
      ]
    },
    {
      "cell_type": "code",
      "execution_count": null,
      "metadata": {
        "colab": {
          "base_uri": "https://localhost:8080/"
        },
        "id": "Wb46thR-_Ohs",
        "outputId": "3d09009f-0fd7-4ad8-ca9a-b7db665e3411"
      },
      "outputs": [
        {
          "name": "stdout",
          "output_type": "stream",
          "text": [
            "False\n"
          ]
        }
      ],
      "source": [
        "salário=100\n",
        "idade=20\n",
        "print(salário>100 and idade>18) # 100>100 and 20>18\n",
        "                                #  False and True\n",
        "                                   #    False"
      ]
    },
    {
      "cell_type": "code",
      "execution_count": null,
      "metadata": {
        "colab": {
          "base_uri": "https://localhost:8080/"
        },
        "id": "ldEI7qQa_Ok6",
        "outputId": "6df9e3d6-fee1-42f8-961a-d200f3352000"
      },
      "outputs": [
        {
          "name": "stdout",
          "output_type": "stream",
          "text": [
            "1\n"
          ]
        }
      ],
      "source": [
        "print(len(\"A\"))"
      ]
    },
    {
      "cell_type": "code",
      "execution_count": null,
      "metadata": {
        "colab": {
          "base_uri": "https://localhost:8080/"
        },
        "id": "PFjDOd38_On5",
        "outputId": "8dcedb41-29bc-40ed-a235-88b634fec0b7"
      },
      "outputs": [
        {
          "name": "stdout",
          "output_type": "stream",
          "text": [
            "2\n"
          ]
        }
      ],
      "source": [
        "print(len(\"AB\"))"
      ]
    },
    {
      "cell_type": "code",
      "execution_count": null,
      "metadata": {
        "colab": {
          "base_uri": "https://localhost:8080/"
        },
        "id": "sC-OmaYU_OrI",
        "outputId": "d42d67de-6256-4b8e-8f9a-b112f8143e91"
      },
      "outputs": [
        {
          "name": "stdout",
          "output_type": "stream",
          "text": [
            "0\n"
          ]
        }
      ],
      "source": [
        "print(len(\"\"))"
      ]
    },
    {
      "cell_type": "code",
      "execution_count": null,
      "metadata": {
        "colab": {
          "base_uri": "https://localhost:8080/"
        },
        "id": "i4VBrRN__Oys",
        "outputId": "c4efa894-b8db-4d4a-e370-7978e999a20a"
      },
      "outputs": [
        {
          "name": "stdout",
          "output_type": "stream",
          "text": [
            "A\n"
          ]
        }
      ],
      "source": [
        "e=\"ABCDEF\"\n",
        "print(e[0])  #usa-se [] para ler a len, que seria a possição"
      ]
    },
    {
      "cell_type": "code",
      "execution_count": null,
      "metadata": {
        "colab": {
          "base_uri": "https://localhost:8080/"
        },
        "id": "Icumpl4t_O1s",
        "outputId": "525b7e74-05b5-415b-f8ec-0a2e92786f06"
      },
      "outputs": [
        {
          "name": "stdout",
          "output_type": "stream",
          "text": [
            "9\n"
          ]
        }
      ],
      "source": [
        "s=\"ABCDEFGHI\"\n",
        "print(len(s))"
      ]
    },
    {
      "cell_type": "code",
      "execution_count": null,
      "metadata": {
        "colab": {
          "base_uri": "https://localhost:8080/"
        },
        "id": "zfBTUPjs_O4s",
        "outputId": "b3442856-4cd6-4f33-a375-f0bb66597c1c"
      },
      "outputs": [
        {
          "name": "stdout",
          "output_type": "stream",
          "text": [
            "ABCDEFGHI\n"
          ]
        }
      ],
      "source": [
        "z=\"ABCDEFGHI\"\n",
        "print(z[:])"
      ]
    },
    {
      "cell_type": "code",
      "execution_count": null,
      "metadata": {
        "colab": {
          "base_uri": "https://localhost:8080/"
        },
        "id": "1-HvWbKz_O8L",
        "outputId": "c6c49efb-0d55-4ba0-a07b-69d121b2d9c7"
      },
      "outputs": [
        {
          "name": "stdout",
          "output_type": "stream",
          "text": [
            "EFG\n"
          ]
        }
      ],
      "source": [
        "print(z[-5:7])"
      ]
    },
    {
      "cell_type": "code",
      "execution_count": null,
      "metadata": {
        "colab": {
          "base_uri": "https://localhost:8080/"
        },
        "id": "4Nmnvz_a_O_h",
        "outputId": "32057ec7-e86f-449d-9098-123927ce6f46"
      },
      "outputs": [
        {
          "name": "stdout",
          "output_type": "stream",
          "text": [
            "600\n"
          ]
        }
      ],
      "source": [
        "\n",
        "divida=0\n",
        "compra = 100\n",
        "divida= divida +compra\n",
        "compra=200\n",
        "divida= divida + compra\n",
        "compra=300\n",
        "divida= divida+ compra\n",
        "compra= 0\n",
        "print (divida)"
      ]
    },
    {
      "cell_type": "code",
      "execution_count": null,
      "metadata": {
        "colab": {
          "base_uri": "https://localhost:8080/"
        },
        "id": "X1_Sa27s_PCp",
        "outputId": "1b96f609-55bd-4961-f15d-ba53ecb3de65"
      },
      "outputs": [
        {
          "name": "stdout",
          "output_type": "stream",
          "text": [
            "Anos de serviso: 199\n",
            "Valor por ano: 4\n",
            "Bonus de R$796.00\n"
          ]
        }
      ],
      "source": [
        "anos=int(input(\"Anos de serviso: \"))              # \"int\" pois é numero inteiro, e \"input\" para poder escrever algo\n",
        "valor_por_ano= float(input(\"Valor por ano: \"))    # \"float\" pois é numero decimal,com casa depos da virgula\n",
        "bonus= anos * valor_por_ano\n",
        "print(f\"Bonus de R${bonus:.2f}\" ) # f antes das \" para poder colocar a variavel dentro dos {} w o :.2 para setar apenas 2 casas decimais\n"
      ]
    },
    {
      "cell_type": "code",
      "execution_count": null,
      "metadata": {
        "colab": {
          "base_uri": "https://localhost:8080/"
        },
        "id": "Y1jQYb8-_PFr",
        "outputId": "05c0c30e-61ba-4780-999d-9b5c967716b1"
      },
      "outputs": [
        {
          "name": "stdout",
          "output_type": "stream",
          "text": [
            "Digite um numero:2\n",
            "Digite outro numero: 4\n",
            "A soma dos dois numero é igual a:6\n",
            "\n"
          ]
        }
      ],
      "source": [
        "# fase de entrada\n",
        "num1 = int(input(\"Digite um numero:\"))\n",
        "num2 = int(input(\"Digite outro numero: \"))\n",
        "\n",
        "#fase de processamento\n",
        "soma = (num1 + num2)\n",
        "\n",
        "#fase de saida\n",
        "print(f\"A soma dos dois numero é igual a:{soma}\")\n",
        "print()"
      ]
    },
    {
      "cell_type": "code",
      "execution_count": null,
      "metadata": {
        "colab": {
          "base_uri": "https://localhost:8080/"
        },
        "id": "IMUiYtmfCLn8",
        "outputId": "ddc532dc-fdb7-4ea7-ca00-0c146e9c8429"
      },
      "outputs": [
        {
          "name": "stdout",
          "output_type": "stream",
          "text": [
            "Informe o valor do produto: 100\n",
            "Informe a porcentagem do desconto: 100\n",
            "O valor de desconto do seu produto é de: 100.0 reais e o preço final do produto sera de:0.0 reais\n",
            "\n"
          ]
        }
      ],
      "source": [
        "#entrada\n",
        "preço= float(input(\"Informe o valor do produto: \"))\n",
        "desconto= float(input(\"Informe a porcentagem do desconto: \"))\n",
        "\n",
        "#processamento\n",
        "valor_desconto=(preço*desconto/100)\n",
        "preço_final=(preço-valor_desconto)\n",
        "\n",
        "#saida\n",
        "print(f\"O valor de desconto do seu produto é de: {valor_desconto} reais e o preço final do produto sera de:{preço_final} reais\")\n",
        "print()"
      ]
    },
    {
      "cell_type": "code",
      "execution_count": null,
      "metadata": {
        "id": "1Wvi_HHwDJJV"
      },
      "outputs": [],
      "source": [
        "velocidade=int(input(\"Qual a velocidade do seu veiculo: \"))\n",
        "multa=5*(velocidade-80)\n",
        "if velocidade> 80:   # if é o \"se\" ele só ira executar o codigo abaixo SE oque ele pede acontecer\n",
        "   print(\"Voce foi multado em R$\", multa)\n"
      ]
    },
    {
      "cell_type": "code",
      "execution_count": null,
      "metadata": {
        "colab": {
          "base_uri": "https://localhost:8080/"
        },
        "id": "3Eaa1nckVmzK",
        "outputId": "b4a80c12-19dc-4c6c-e6ae-74a2d4bf2e65"
      },
      "outputs": [
        {
          "name": "stdout",
          "output_type": "stream",
          "text": [
            "idade do veiculo: 5\n",
            "seu veiculo é velho\n"
          ]
        }
      ],
      "source": [
        "idade = int(input(\"idade do veiculo: \"))\n",
        "if idade<=3:\n",
        "   print(\"seu carro é novo\")\n",
        "else:\n",
        "            print(\"seu veiculo é velho\")"
      ]
    },
    {
      "cell_type": "code",
      "execution_count": null,
      "metadata": {
        "colab": {
          "base_uri": "https://localhost:8080/"
        },
        "id": "nF_gohILZzL6",
        "outputId": "b6cc5bc6-c337-4f61-c7ee-8255a9751897"
      },
      "outputs": [
        {
          "name": "stdout",
          "output_type": "stream",
          "text": [
            "Quantos minutos vc utilizou o telefone? 300\n",
            "vc pagara este mes R$ 54.0\n"
          ]
        }
      ],
      "source": [
        "minutos=int(input(\"Quantos minutos vc utilizou o telefone? \"))\n",
        "if minutos<200:\n",
        "  preço =0.20\n",
        "else:\n",
        "  if minutos <400:\n",
        "     preço=0.18\n",
        "  else:\n",
        "      preço=0.15\n",
        "print(\"vc pagara este mes R$\",minutos*preço)\n"
      ]
    },
    {
      "cell_type": "code",
      "execution_count": null,
      "metadata": {
        "colab": {
          "base_uri": "https://localhost:8080/"
        },
        "id": "uoLx5HwlX44c",
        "outputId": "8a43f694-0215-44ac-8a70-219d688c1eb1"
      },
      "outputs": [
        {
          "name": "stdout",
          "output_type": "stream",
          "text": [
            "Quantos km vc deseja percorrer: 1000\n",
            "O preço cobrado por essa distancia é R$450.0\n"
          ]
        }
      ],
      "source": [
        "distancia=int(input(\"Quantos km vc deseja percorrer: \"))\n",
        "\n",
        "if distancia<=200:\n",
        "  preço=(distancia*0.50)\n",
        "  print(f\"O preço cobrado por essa distancia é R${preço}\")\n",
        "else:\n",
        "  preço=(distancia*0.45)\n",
        "  print(f\"O preço cobrado por essa distancia é R${preço}\")"
      ]
    },
    {
      "cell_type": "code",
      "execution_count": null,
      "metadata": {
        "colab": {
          "base_uri": "https://localhost:8080/"
        },
        "id": "ovzleUHBcOBr",
        "outputId": "34c5b0eb-2aa5-4f05-bcc5-b2e4fa67a00a"
      },
      "outputs": [
        {
          "name": "stdout",
          "output_type": "stream",
          "text": [
            "Digite a categori do produto: 4\n",
            "O preço do seu produto é R$ 26\n"
          ]
        }
      ],
      "source": [
        "categoria=int(input(\"Digite a categori do produto: \"))\n",
        "if categoria == 1:\n",
        "  preço=10\n",
        "else:\n",
        "   if categoria==2:\n",
        "    preço=18\n",
        "   else:\n",
        "     if categoria==3:\n",
        "      preço=23\n",
        "     else:\n",
        "       if categoria ==4:\n",
        "         preço=26\n",
        "       else:\n",
        "         if categoria==5:\n",
        "          preço=31\n",
        "         else:\n",
        "           print(\"Categoria invalida, digite um numero de 1 a 5!\")\n",
        "           preço=0\n",
        "print(\"O preço do seu produto é R$\",preço)"
      ]
    },
    {
      "cell_type": "code",
      "execution_count": null,
      "metadata": {
        "colab": {
          "base_uri": "https://localhost:8080/"
        },
        "id": "WGSWVuE7fytm",
        "outputId": "407d1e86-a072-43db-b830-e49898e50528"
      },
      "outputs": [
        {
          "name": "stdout",
          "output_type": "stream",
          "text": [
            "Digite uma categoria: 6\n",
            "Categoria invalida, digite um numero de 1 a 5!\n",
            "O preço do produto é R$ 0\n"
          ]
        }
      ],
      "source": [
        "categoria=int(input(\"Digite uma categoria: \"))\n",
        "if categoria ==1:\n",
        " preço=10\n",
        "elif categoria==2:\n",
        " preço=18\n",
        "elif categoria==3:\n",
        " preço =23\n",
        "elif categoria==4:\n",
        " preço=26\n",
        "elif categoria==5:\n",
        " preço=31\n",
        "else:\n",
        "  print(\"Categoria invalida, digite um numero de 1 a 5!\")\n",
        "  preço=0\n",
        "print(\"O preço do produto é R$\",preço)\n"
      ]
    },
    {
      "cell_type": "code",
      "execution_count": null,
      "metadata": {
        "colab": {
          "base_uri": "https://localhost:8080/"
        },
        "id": "GUSmuXBoiixi",
        "outputId": "8810346d-1cec-45f9-a321-4cac036dd8ff"
      },
      "outputs": [
        {
          "name": "stdout",
          "output_type": "stream",
          "text": [
            "Digite o primeiro numero: 6\n",
            "Qual operação dejesa realizar? +6\n",
            "Digite o segundo numero: 6\n",
            "sinal invalido\n",
            " seu resultado é:  \n"
          ]
        }
      ],
      "source": [
        "n1=float(input(\"Digite o primeiro numero: \"))\n",
        "sinal=str(input(\"Qual operação dejesa realizar? \"))\n",
        "n2=float(input(\"Digite o segundo numero: \"))\n",
        "\n",
        "if sinal == \"+\":\n",
        " resultado=(n1+n2)\n",
        "elif sinal== \"-\":\n",
        " resultado=(n1-n2)\n",
        "elif sinal ==\"*\":\n",
        "  resultado=(n1*n2)\n",
        "elif sinal==\"/\":\n",
        "  resultado=(n1/n2)\n",
        "elif len(sinal)!=1:\n",
        "  print(\"sinal invalido\")\n",
        "  resultado=(\"\")\n",
        "print(\" seu resultado é: \",resultado)\n"
      ]
    },
    {
      "cell_type": "code",
      "execution_count": null,
      "metadata": {
        "colab": {
          "base_uri": "https://localhost:8080/"
        },
        "id": "ejKBpAcFnSa3",
        "outputId": "2e237157-31e9-4156-e60e-fb2ad07f3837"
      },
      "outputs": [
        {
          "name": "stdout",
          "output_type": "stream",
          "text": [
            "Para vermos se seu imprstimo sera aprovado precisaremos de algumas informaçãoes.\n",
            "Qual o valor da casa? 1\n",
            "Em quantos anos foi divididas as parcelas? 1\n",
            "Qual o seu salario? 2222\n",
            "Aprovado(:\n"
          ]
        }
      ],
      "source": [
        "print(\"Para vermos se seu imprstimo sera aprovado precisaremos de algumas informaçãoes.\")\n",
        "casa =float(input(\"Qual o valor da casa? \"))\n",
        "anos= int(input(\"Em quantos anos foi divididas as parcelas? \"))\n",
        "salario=float(input(\"Qual o seu salario? \"))\n",
        "prestação= casa/(anos*12)\n",
        "\n",
        "if prestação<(salario*30/100):\n",
        " resultado=\"Aprovado(:\"\n",
        "else:\n",
        " resultado=\"Negado:(\"\n",
        "print(resultado)\n"
      ]
    },
    {
      "cell_type": "code",
      "execution_count": null,
      "metadata": {
        "colab": {
          "base_uri": "https://localhost:8080/"
        },
        "id": "6KVcDhTx2q8_",
        "outputId": "568ed8fb-e3a5-4a9a-bf3f-ef415e1d6cd7"
      },
      "outputs": [
        {
          "name": "stdout",
          "output_type": "stream",
          "text": [
            "Qual a quantidade de kWh é consumida? 333333\n",
            "Qual a instituição? R,I ou C: i\n",
            "Seu valor a apagar é R$199999.80\n"
          ]
        }
      ],
      "source": [
        "kwh=float(input(\"Qual a quantidade de kWh é consumida? \"))\n",
        "insti=str(input(\"Qual a instituição? R,I ou C: \"))\n",
        "\n",
        "if (insti==\"R\" or insti==\"r\") and kwh<=500:\n",
        "   preço=float(0.40*kwh)\n",
        "elif (insti==\"R\" or insti==\"r\") and kwh>500:\n",
        "   preço=float(0.65*kwh)\n",
        "elif (insti==\"C\" or insti==\"c\")and kwh<=1000:\n",
        "   preço=float(0.55*kwh)\n",
        "elif (insti==\"C\"or insti==\"c\") and kwh>1000:\n",
        "  preço==float(0.60*kwh)\n",
        "elif (insti==\"I\" or insti==\"i\") and kwh<=5000:\n",
        "  preço=(0.55*kwh)\n",
        "elif (insti==\"I\" or insti==\"i\") and kwh>5000:\n",
        "  preço=(0.60*kwh)\n",
        "else:\n",
        "  print(\"Instituição invalida\")\n",
        "  preço=(\"\")\n",
        "print(f\"Seu valor a apagar é R${preço:.2f}\")"
      ]
    },
    {
      "cell_type": "code",
      "execution_count": null,
      "metadata": {
        "colab": {
          "base_uri": "https://localhost:8080/"
        },
        "id": "xTtdB28k_UBG",
        "outputId": "c99ed4d2-bd06-455f-8790-db59483f83dc"
      },
      "outputs": [
        {
          "name": "stdout",
          "output_type": "stream",
          "text": [
            "1\n",
            "2\n",
            "3\n"
          ]
        }
      ],
      "source": [
        "x=1\n",
        "while x<=3:\n",
        "  print(x)\n",
        "  x=x+1"
      ]
    },
    {
      "cell_type": "code",
      "execution_count": null,
      "metadata": {
        "id": "-KrPSbDJ_lYo"
      },
      "outputs": [],
      "source": [
        "x=1\n",
        "while x<=100:\n",
        "  print(x)\n",
        "  x= x+1\n"
      ]
    },
    {
      "cell_type": "code",
      "execution_count": null,
      "metadata": {
        "id": "7kf3IEgYAsL7"
      },
      "outputs": [],
      "source": [
        "x=50\n",
        "while x<=100:\n",
        " print(x)\n",
        " x= x+1\n"
      ]
    },
    {
      "cell_type": "code",
      "execution_count": null,
      "metadata": {
        "colab": {
          "base_uri": "https://localhost:8080/"
        },
        "id": "uD6XV0EcA7jv",
        "outputId": "9c9d8302-5dd1-47e7-aa6c-93b578b5e239"
      },
      "outputs": [
        {
          "name": "stdout",
          "output_type": "stream",
          "text": [
            "10\n",
            "9\n",
            "8\n",
            "7\n",
            "6\n",
            "5\n",
            "4\n",
            "3\n",
            "2\n",
            "1\n",
            "0\n",
            "FOGO!!\n"
          ]
        }
      ],
      "source": [
        "x=10\n",
        "while x>=0:\n",
        "  print(x)\n",
        "  x=x-1\n",
        "print(\"FOGO!!\")"
      ]
    },
    {
      "cell_type": "code",
      "execution_count": null,
      "metadata": {
        "colab": {
          "base_uri": "https://localhost:8080/"
        },
        "id": "DdMjdpW3BNw3",
        "outputId": "469ef1c4-2b86-4930-dc11-84021e263fd4"
      },
      "outputs": [
        {
          "name": "stdout",
          "output_type": "stream",
          "text": [
            "Escolha ate que numero deseja contar: 3\n",
            "1\n",
            "2\n",
            "3\n"
          ]
        }
      ],
      "source": [
        "fim=int(input(\"Escolha ate que numero deseja contar: \"))\n",
        "x=1\n",
        "while x<=fim:\n",
        " print(x)\n",
        " x=x+1\n"
      ]
    },
    {
      "cell_type": "code",
      "execution_count": null,
      "metadata": {
        "colab": {
          "base_uri": "https://localhost:8080/"
        },
        "id": "QzChHzr6DS0-",
        "outputId": "e8790150-787a-4db6-8d3d-8453915cd7fe"
      },
      "outputs": [
        {
          "name": "stdout",
          "output_type": "stream",
          "text": [
            "Escolha ate que numero deseja contar: 7\n",
            "0\n",
            "2\n",
            "4\n",
            "6\n"
          ]
        }
      ],
      "source": [
        "fim=int(input(\"Escolha ate que numero deseja contar: \"))\n",
        "x=0\n",
        "while x<=fim:\n",
        " if x % 2 ==0:\n",
        "  print(x)\n",
        " x=x+1"
      ]
    },
    {
      "cell_type": "code",
      "execution_count": null,
      "metadata": {
        "colab": {
          "base_uri": "https://localhost:8080/"
        },
        "id": "-Y01L_TRDqdw",
        "outputId": "638c4569-e9ac-4740-bd37-b8fde858f5b8"
      },
      "outputs": [
        {
          "name": "stdout",
          "output_type": "stream",
          "text": [
            "Escolha ate que numero deseja contar: 7\n",
            "0\n",
            "2\n",
            "4\n",
            "6\n"
          ]
        }
      ],
      "source": [
        "fim=int(input(\"Escolha ate que numero deseja contar: \"))\n",
        "x=0\n",
        "while x<=fim:\n",
        " print(x)\n",
        " x=x+2"
      ]
    },
    {
      "cell_type": "code",
      "execution_count": null,
      "metadata": {
        "colab": {
          "base_uri": "https://localhost:8080/"
        },
        "id": "RKlUr88EEPix",
        "outputId": "c90fc765-7aa0-4305-d7fd-5c9fe3a94487"
      },
      "outputs": [
        {
          "name": "stdout",
          "output_type": "stream",
          "text": [
            "Escolha ate que numero deseja contar: 7\n",
            "1\n",
            "3\n",
            "5\n",
            "7\n"
          ]
        }
      ],
      "source": [
        "fim=int(input(\"Escolha ate que numero deseja contar: \"))\n",
        "x=0\n",
        "while x<=fim:\n",
        " if x % 2!=0:\n",
        "  print(x)\n",
        " x=x+1"
      ]
    },
    {
      "cell_type": "code",
      "execution_count": null,
      "metadata": {
        "colab": {
          "base_uri": "https://localhost:8080/"
        },
        "id": "a-wPoqOBEX93",
        "outputId": "3846bdd9-ef32-4839-8205-aadfaaa9b517"
      },
      "outputs": [
        {
          "name": "stdout",
          "output_type": "stream",
          "text": [
            "Escolha ate que numero deseja contar: 9\n",
            "0\n",
            "3\n",
            "6\n",
            "9\n"
          ]
        }
      ],
      "source": [
        "fim=int(input(\"Escolha ate que numero deseja contar: \"))\n",
        "x=0\n",
        "while x<=fim:\n",
        "  if x%3==0:\n",
        "    print(x)\n",
        "  x=x+1"
      ]
    },
    {
      "cell_type": "code",
      "execution_count": null,
      "metadata": {
        "colab": {
          "base_uri": "https://localhost:8080/"
        },
        "id": "DG0jIlF-ExkI",
        "outputId": "c7ba8f86-fa08-4a81-9592-86be646c0bd6"
      },
      "outputs": [
        {
          "name": "stdout",
          "output_type": "stream",
          "text": [
            "Tabuada de:5\n",
            "5\n",
            "10\n",
            "15\n",
            "20\n",
            "25\n",
            "30\n",
            "35\n",
            "40\n",
            "45\n",
            "50\n",
            "55\n",
            "60\n",
            "65\n",
            "70\n",
            "75\n",
            "80\n",
            "85\n",
            "90\n",
            "95\n",
            "100\n",
            "105\n"
          ]
        }
      ],
      "source": [
        "n= int(input(\"Tabuada de:\")) #esse progama nos da os procimos 10 numers q digitarmos\n",
        "x=0\n",
        "while x <=100: # aqui escolhemos até qual multiplo mais perto queremos\n",
        " print (n+x)\n",
        " x=x+n"
      ]
    },
    {
      "cell_type": "code",
      "execution_count": null,
      "metadata": {
        "colab": {
          "base_uri": "https://localhost:8080/"
        },
        "id": "maYD3BvvHk7v",
        "outputId": "9926decc-763e-4f08-ae5c-1fb147d5b424"
      },
      "outputs": [
        {
          "name": "stdout",
          "output_type": "stream",
          "text": [
            "Tabuada: 4\n",
            "4\n",
            "8\n",
            "12\n",
            "16\n",
            "20\n",
            "24\n",
            "28\n",
            "32\n",
            "36\n",
            "40\n"
          ]
        }
      ],
      "source": [
        "n= int(input(\"Tabuada: \"))\n",
        "x= 1\n",
        "while x<=10:\n",
        " print(n*x)\n",
        " x=x+1"
      ]
    },
    {
      "cell_type": "code",
      "execution_count": null,
      "metadata": {
        "colab": {
          "base_uri": "https://localhost:8080/"
        },
        "id": "W6CW9MrC8hxn",
        "outputId": "b6aa9b75-d8db-4f50-fff3-d5f318f1c61d"
      },
      "outputs": [
        {
          "name": "stdout",
          "output_type": "stream",
          "text": [
            "Tabuada: 4\n",
            "4\n",
            "8\n",
            "12\n",
            "16\n",
            "20\n",
            "24\n",
            "28\n",
            "32\n",
            "36\n",
            "40\n"
          ]
        }
      ],
      "source": [
        "n= int(input(\"Tabuada: \"))\n",
        "x= 1\n",
        "while x<=10:\n",
        " print(n*x)\n",
        " x=x+1"
      ]
    },
    {
      "cell_type": "code",
      "execution_count": null,
      "metadata": {
        "colab": {
          "base_uri": "https://localhost:8080/"
        },
        "id": "U6DptTES8nz1",
        "outputId": "180ee87f-9a3a-4e92-b9a0-671bd9e86a16"
      },
      "outputs": [
        {
          "name": "stdout",
          "output_type": "stream",
          "text": [
            "Tabuada: 8\n",
            "inicio: 0\n",
            "fim: 188\n",
            "0\n",
            "8\n",
            "16\n",
            "24\n",
            "32\n",
            "40\n",
            "48\n",
            "56\n",
            "64\n",
            "72\n",
            "80\n",
            "88\n",
            "96\n",
            "104\n",
            "112\n",
            "120\n",
            "128\n",
            "136\n",
            "144\n",
            "152\n",
            "160\n",
            "168\n",
            "176\n",
            "184\n"
          ]
        }
      ],
      "source": [
        "n= int(input(\"Tabuada: \"))                  # para funcionar vc precisa escoler para inicar em um multiplo do numero escolhido\n",
        "inicio=int(input(\"inicio: \"))\n",
        "fim=int(input(\"fim: \"))\n",
        "\n",
        "while inicio<=fim:\n",
        " print(inicio)\n",
        " inicio=(inicio+n)\n"
      ]
    },
    {
      "cell_type": "code",
      "execution_count": null,
      "metadata": {
        "colab": {
          "background_save": true
        },
        "id": "z2rH5Kd481Y1"
      },
      "outputs": [],
      "source": [
        "n + int(input(\" Tabuada de: \"))\n",
        "x=1\n",
        "while x <=10:\n",
        "  print(f\"{n}*{x} = {n*x}\")\n",
        "  x=+1\n"
      ]
    },
    {
      "cell_type": "code",
      "source": [
        "pontos = 0\n",
        "questao = 1\n",
        "while questao <=3:\n",
        "  r = input(f\"Resposta da questao {questao}:  \")\n",
        "  if  questao == 1 and (r == \"b\" or r == \"B\"):\n",
        "    pontos += 1\n",
        "  if  questao == 2 and (r == \"a\" or r == \"A\"):\n",
        "    pontos += 1\n",
        "  if  questao == 3 and (r == \"d\" or r == \"D\"):\n",
        "    pontos += 1\n",
        "  questao += 1\n",
        "print(f\"VC fez {pontos} pontos\")"
      ],
      "metadata": {
        "colab": {
          "base_uri": "https://localhost:8080/"
        },
        "id": "KZxmKNULFQw0",
        "outputId": "f117629c-f303-402d-bf50-988920eb8fd0"
      },
      "execution_count": 3,
      "outputs": [
        {
          "output_type": "stream",
          "name": "stdout",
          "text": [
            "Resposta da questao 1:  B\n",
            "Resposta da questao 2:  a\n",
            "Resposta da questao 3:  D\n",
            "VC fez 3 pontos\n"
          ]
        }
      ]
    },
    {
      "cell_type": "code",
      "source": [
        "n = 1\n",
        "soma = 0\n",
        "while n <= 10:\n",
        "   x = int(input(f\"irei somas 10 numeros para vc, um por vez,digite o {n} numero, resultado atual: \"))\n",
        "   soma += x\n",
        "   n += 1\n",
        "print(f\"soma: {soma}\")"
      ],
      "metadata": {
        "colab": {
          "base_uri": "https://localhost:8080/"
        },
        "id": "vz5pNMv4Dr07",
        "outputId": "21314428-9b31-4aca-8214-5039e9fc3ec2"
      },
      "execution_count": null,
      "outputs": [
        {
          "output_type": "stream",
          "name": "stdout",
          "text": [
            "irei somas 10 numeros para vc, um por vez,digite o 1 numero, resultado atual: 10\n",
            "irei somas 10 numeros para vc, um por vez,digite o 2 numero, resultado atual: 12\n",
            "irei somas 10 numeros para vc, um por vez,digite o 3 numero, resultado atual: 12\n",
            "irei somas 10 numeros para vc, um por vez,digite o 4 numero, resultado atual: 2\n",
            "irei somas 10 numeros para vc, um por vez,digite o 5 numero, resultado atual: 3\n",
            "irei somas 10 numeros para vc, um por vez,digite o 6 numero, resultado atual: 23\n",
            "irei somas 10 numeros para vc, um por vez,digite o 7 numero, resultado atual: 232\n",
            "irei somas 10 numeros para vc, um por vez,digite o 8 numero, resultado atual: 22\n",
            "irei somas 10 numeros para vc, um por vez,digite o 9 numero, resultado atual: 11\n",
            "irei somas 10 numeros para vc, um por vez,digite o 10 numero, resultado atual: 11\n",
            "soma: 338\n"
          ]
        }
      ]
    },
    {
      "cell_type": "code",
      "source": [
        "n = 1\n",
        "soma = 0\n",
        "while n <= 5:\n",
        "  x = int(input(f\"favor digitar suas 5 notas, uma de cade vez {n}º nota: \"))\n",
        "  soma += x\n",
        "  n +=1\n",
        "print(f\"sua media é {soma/5}\")"
      ],
      "metadata": {
        "colab": {
          "base_uri": "https://localhost:8080/"
        },
        "id": "Y2rswn_bGwLs",
        "outputId": "f9883db9-3546-44c7-a623-ea81680f00fb"
      },
      "execution_count": 6,
      "outputs": [
        {
          "output_type": "stream",
          "name": "stdout",
          "text": [
            "favor digitar suas 5 notas, uma de cade vez 1º nota: 12\n",
            "favor digitar suas 5 notas, uma de cade vez 2º nota: 12\n",
            "favor digitar suas 5 notas, uma de cade vez 3º nota: 12\n",
            "favor digitar suas 5 notas, uma de cade vez 4º nota: 5\n",
            "favor digitar suas 5 notas, uma de cade vez 5º nota: 5\n",
            "sua media é 9.2\n"
          ]
        }
      ]
    },
    {
      "cell_type": "code",
      "source": [
        "d = int(input(\" qual o valor do deposito?: \"))\n",
        "j = int(input(\" informe o porcentagem do juros ao mes: \"))\n",
        "n = 1\n",
        "x = ((j/100)*d)+d\n",
        "\n",
        "while n <= 24:\n",
        "   print(f\"o valor do seu depoisito com juros no {n}º mes vai ser de {x}\")\n",
        "   x +=  ((j/100)*x)\n",
        "   n += 1"
      ],
      "metadata": {
        "colab": {
          "base_uri": "https://localhost:8080/"
        },
        "id": "yPq6t5s4HvrF",
        "outputId": "b309dc67-3b5e-473d-dc1c-b31ec8beb045"
      },
      "execution_count": 14,
      "outputs": [
        {
          "output_type": "stream",
          "name": "stdout",
          "text": [
            " qual o valor do deposito?: 10\n",
            " informe o porcentagem do juros ao mes: 100\n",
            "o valor do seu depoisito com juros no 1º mes vai ser de 20.0\n",
            "o valor do seu depoisito com juros no 2º mes vai ser de 40.0\n",
            "o valor do seu depoisito com juros no 3º mes vai ser de 80.0\n",
            "o valor do seu depoisito com juros no 4º mes vai ser de 160.0\n",
            "o valor do seu depoisito com juros no 5º mes vai ser de 320.0\n",
            "o valor do seu depoisito com juros no 6º mes vai ser de 640.0\n",
            "o valor do seu depoisito com juros no 7º mes vai ser de 1280.0\n",
            "o valor do seu depoisito com juros no 8º mes vai ser de 2560.0\n",
            "o valor do seu depoisito com juros no 9º mes vai ser de 5120.0\n",
            "o valor do seu depoisito com juros no 10º mes vai ser de 10240.0\n",
            "o valor do seu depoisito com juros no 11º mes vai ser de 20480.0\n",
            "o valor do seu depoisito com juros no 12º mes vai ser de 40960.0\n",
            "o valor do seu depoisito com juros no 13º mes vai ser de 81920.0\n",
            "o valor do seu depoisito com juros no 14º mes vai ser de 163840.0\n",
            "o valor do seu depoisito com juros no 15º mes vai ser de 327680.0\n",
            "o valor do seu depoisito com juros no 16º mes vai ser de 655360.0\n",
            "o valor do seu depoisito com juros no 17º mes vai ser de 1310720.0\n",
            "o valor do seu depoisito com juros no 18º mes vai ser de 2621440.0\n",
            "o valor do seu depoisito com juros no 19º mes vai ser de 5242880.0\n",
            "o valor do seu depoisito com juros no 20º mes vai ser de 10485760.0\n",
            "o valor do seu depoisito com juros no 21º mes vai ser de 20971520.0\n",
            "o valor do seu depoisito com juros no 22º mes vai ser de 41943040.0\n",
            "o valor do seu depoisito com juros no 23º mes vai ser de 83886080.0\n",
            "o valor do seu depoisito com juros no 24º mes vai ser de 167772160.0\n"
          ]
        }
      ]
    },
    {
      "cell_type": "code",
      "source": [
        "d = int(input(\" qual o valor do deposito?: \"))                       # nem sei se ta certo kkkkkkk\n",
        "j = int(input(\" informe o porcentagem do juros ao mes: \"))                     # acho q antes tava certo e eu apaguei\n",
        "m = int(input(\"Indorme o valor que vc pretende depositar ao mes: \"))\n",
        "n = 1\n",
        "d == (((j/100)*d)+d)                                                         # nem sei direito oq rolou aqui\n",
        "\n",
        "while n <= 24:\n",
        "   print(f\"o valor gerado por juros no {n}º mes vai ser de: {d} \\n e o valor total na conta vai ser de {d*2}\")\n",
        "   n += 1\n",
        "   d +=  ((j/100)*d) + m\n",
        "\n",
        ""
      ],
      "metadata": {
        "colab": {
          "base_uri": "https://localhost:8080/"
        },
        "id": "j-nhiRa6MWW3",
        "outputId": "35b9398d-fd5d-4074-cc48-1aebdc340964"
      },
      "execution_count": 39,
      "outputs": [
        {
          "output_type": "stream",
          "name": "stdout",
          "text": [
            " qual o valor do deposito?: 10\n",
            " informe o porcentagem do juros ao mes: 100\n",
            "Indorme o valor que vc pretende depositar ao mes: 10\n",
            "o valor gerado por juros no 1º mes vai ser de: 10 \n",
            " e o valor total na conta vai ser de 20\n",
            "o valor gerado por juros no 2º mes vai ser de: 30.0 \n",
            " e o valor total na conta vai ser de 60.0\n",
            "o valor gerado por juros no 3º mes vai ser de: 70.0 \n",
            " e o valor total na conta vai ser de 140.0\n",
            "o valor gerado por juros no 4º mes vai ser de: 150.0 \n",
            " e o valor total na conta vai ser de 300.0\n",
            "o valor gerado por juros no 5º mes vai ser de: 310.0 \n",
            " e o valor total na conta vai ser de 620.0\n",
            "o valor gerado por juros no 6º mes vai ser de: 630.0 \n",
            " e o valor total na conta vai ser de 1260.0\n",
            "o valor gerado por juros no 7º mes vai ser de: 1270.0 \n",
            " e o valor total na conta vai ser de 2540.0\n",
            "o valor gerado por juros no 8º mes vai ser de: 2550.0 \n",
            " e o valor total na conta vai ser de 5100.0\n",
            "o valor gerado por juros no 9º mes vai ser de: 5110.0 \n",
            " e o valor total na conta vai ser de 10220.0\n",
            "o valor gerado por juros no 10º mes vai ser de: 10230.0 \n",
            " e o valor total na conta vai ser de 20460.0\n",
            "o valor gerado por juros no 11º mes vai ser de: 20470.0 \n",
            " e o valor total na conta vai ser de 40940.0\n",
            "o valor gerado por juros no 12º mes vai ser de: 40950.0 \n",
            " e o valor total na conta vai ser de 81900.0\n",
            "o valor gerado por juros no 13º mes vai ser de: 81910.0 \n",
            " e o valor total na conta vai ser de 163820.0\n",
            "o valor gerado por juros no 14º mes vai ser de: 163830.0 \n",
            " e o valor total na conta vai ser de 327660.0\n",
            "o valor gerado por juros no 15º mes vai ser de: 327670.0 \n",
            " e o valor total na conta vai ser de 655340.0\n",
            "o valor gerado por juros no 16º mes vai ser de: 655350.0 \n",
            " e o valor total na conta vai ser de 1310700.0\n",
            "o valor gerado por juros no 17º mes vai ser de: 1310710.0 \n",
            " e o valor total na conta vai ser de 2621420.0\n",
            "o valor gerado por juros no 18º mes vai ser de: 2621430.0 \n",
            " e o valor total na conta vai ser de 5242860.0\n",
            "o valor gerado por juros no 19º mes vai ser de: 5242870.0 \n",
            " e o valor total na conta vai ser de 10485740.0\n",
            "o valor gerado por juros no 20º mes vai ser de: 10485750.0 \n",
            " e o valor total na conta vai ser de 20971500.0\n",
            "o valor gerado por juros no 21º mes vai ser de: 20971510.0 \n",
            " e o valor total na conta vai ser de 41943020.0\n",
            "o valor gerado por juros no 22º mes vai ser de: 41943030.0 \n",
            " e o valor total na conta vai ser de 83886060.0\n",
            "o valor gerado por juros no 23º mes vai ser de: 83886070.0 \n",
            " e o valor total na conta vai ser de 167772140.0\n",
            "o valor gerado por juros no 24º mes vai ser de: 167772150.0 \n",
            " e o valor total na conta vai ser de 335544300.0\n"
          ]
        }
      ]
    },
    {
      "cell_type": "markdown",
      "source": [
        "Nem me pergunte como"
      ],
      "metadata": {
        "id": "_2F_AJaprVqR"
      }
    },
    {
      "cell_type": "code",
      "source": [
        "# é aqula historia né, se funciona n reclama\n",
        "\n",
        "d = int(input(\"informe o valor da divida: \"))\n",
        "j = int(input(\"informe o a porcentagem do juros ao mes: \"))\n",
        "p = int(input(\"informe o valor q vc pagara por mes: \"))\n",
        "de = ((j/100)*d)+d\n",
        "n = 1\n",
        "total_pago = p\n",
        "\n",
        "while 0 < de:\n",
        "  print(f\"valor da divida no {n}° mes pagando sera de: {de-p} \\n vc pagou no total {total_pago} \")\n",
        "  n +=1\n",
        "  total_pago += p\n",
        "  de = (de-p)\n",
        "  de += ((j/100)*de)\n",
        "juros = total_pago -p- d\n",
        "print()\n",
        "print(f\"o total de meses para pagar a divida foi de {n-1}\\n o toltal de juros pago foi de {juros}\\n o total pago foi de {total_pago-p}\")\n"
      ],
      "metadata": {
        "colab": {
          "base_uri": "https://localhost:8080/"
        },
        "id": "3mE1_PagZtZd",
        "outputId": "7c4395db-d935-4c7c-8e4b-9c181fee50d8"
      },
      "execution_count": 10,
      "outputs": [
        {
          "output_type": "stream",
          "name": "stdout",
          "text": [
            "informe o valor da divida: 10\n",
            "informe o a porcentagem do juros ao mes: 0\n",
            "informe o valor q vc pagara por mes: 1\n",
            "valor da divida no 1° mes pagando sera de: 9.0 \n",
            " vc pagou no total 1 \n",
            "valor da divida no 2° mes pagando sera de: 8.0 \n",
            " vc pagou no total 2 \n",
            "valor da divida no 3° mes pagando sera de: 7.0 \n",
            " vc pagou no total 3 \n",
            "valor da divida no 4° mes pagando sera de: 6.0 \n",
            " vc pagou no total 4 \n",
            "valor da divida no 5° mes pagando sera de: 5.0 \n",
            " vc pagou no total 5 \n",
            "valor da divida no 6° mes pagando sera de: 4.0 \n",
            " vc pagou no total 6 \n",
            "valor da divida no 7° mes pagando sera de: 3.0 \n",
            " vc pagou no total 7 \n",
            "valor da divida no 8° mes pagando sera de: 2.0 \n",
            " vc pagou no total 8 \n",
            "valor da divida no 9° mes pagando sera de: 1.0 \n",
            " vc pagou no total 9 \n",
            "valor da divida no 10° mes pagando sera de: 0.0 \n",
            " vc pagou no total 10 \n",
            "\n",
            "o total de meses para pagar a divida foi de 10\n",
            " o toltal de juros pago foi de 0\n",
            " o total pago foi de 10\n"
          ]
        }
      ]
    },
    {
      "cell_type": "code",
      "source": [],
      "metadata": {
        "id": "dC8tA8HkrTLH"
      },
      "execution_count": null,
      "outputs": []
    }
  ],
  "metadata": {
    "colab": {
      "provenance": []
    },
    "kernelspec": {
      "display_name": "Python 3",
      "name": "python3"
    },
    "language_info": {
      "name": "python"
    }
  },
  "nbformat": 4,
  "nbformat_minor": 0
}