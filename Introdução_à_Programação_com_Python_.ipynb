{
  "cells": [
    {
      "cell_type": "markdown",
      "metadata": {
        "id": "view-in-github",
        "colab_type": "text"
      },
      "source": [
        "<a href=\"https://colab.research.google.com/github/tom-locatelli47/Python/blob/main/Introdu%C3%A7%C3%A3o_%C3%A0_Programa%C3%A7%C3%A3o_com_Python_.ipynb\" target=\"_parent\"><img src=\"https://colab.research.google.com/assets/colab-badge.svg\" alt=\"Open In Colab\"/></a>"
      ]
    },
    {
      "cell_type": "code",
      "execution_count": null,
      "metadata": {
        "id": "hbL1fyIz9_xk"
      },
      "outputs": [],
      "source": [
        "print (\"oi\")"
      ]
    },
    {
      "cell_type": "code",
      "execution_count": null,
      "metadata": {
        "colab": {
          "base_uri": "https://localhost:8080/"
        },
        "id": "HOAycD4z9_0W",
        "outputId": "f27001fd-96c9-42b3-cce4-767d13bd8535"
      },
      "outputs": [
        {
          "name": "stdout",
          "output_type": "stream",
          "text": [
            "8\n"
          ]
        }
      ],
      "source": [
        "a=3\n",
        "b=5\n",
        "print (a+b)"
      ]
    },
    {
      "cell_type": "code",
      "execution_count": null,
      "metadata": {
        "colab": {
          "base_uri": "https://localhost:8080/"
        },
        "id": "tLdK2-pM9_3P",
        "outputId": "430e31e8-97ab-4efa-f2c2-7f3d737eeae1"
      },
      "outputs": [
        {
          "name": "stdout",
          "output_type": "stream",
          "text": [
            "8625.0\n"
          ]
        }
      ],
      "source": [
        "salário=7500\n",
        "aumento=15%7500\n",
        "print (salário+(salário*aumento/100))"
      ]
    },
    {
      "cell_type": "code",
      "execution_count": null,
      "metadata": {
        "colab": {
          "base_uri": "https://localhost:8080/"
        },
        "id": "GwypWKsi9_6O",
        "outputId": "51da0d9c-1e3b-4f72-bc85-dfb21acff905"
      },
      "outputs": [
        {
          "name": "stdout",
          "output_type": "stream",
          "text": [
            "True\n"
          ]
        }
      ],
      "source": [
        "a=1\n",
        "b=2\n",
        "print(a<b)"
      ]
    },
    {
      "cell_type": "code",
      "execution_count": null,
      "metadata": {
        "colab": {
          "base_uri": "https://localhost:8080/"
        },
        "id": "riZWErWp988V",
        "outputId": "0f249903-64a9-4cd1-b8b6-cab069f0c018"
      },
      "outputs": [
        {
          "name": "stdout",
          "output_type": "stream",
          "text": [
            "False\n"
          ]
        }
      ],
      "source": [
        "print(not True)"
      ]
    },
    {
      "cell_type": "code",
      "execution_count": null,
      "metadata": {
        "colab": {
          "base_uri": "https://localhost:8080/"
        },
        "id": "NQeEculh_OWd",
        "outputId": "71c91403-e778-4de7-e07a-4f6989c75904"
      },
      "outputs": [
        {
          "name": "stdout",
          "output_type": "stream",
          "text": [
            "True\n"
          ]
        }
      ],
      "source": [
        "print (True and True)  # usando o \"and\" só será \"True\" se ambos forem \"True\""
      ]
    },
    {
      "cell_type": "code",
      "execution_count": null,
      "metadata": {
        "colab": {
          "base_uri": "https://localhost:8080/"
        },
        "id": "Wb46thR-_Ohs",
        "outputId": "3d09009f-0fd7-4ad8-ca9a-b7db665e3411"
      },
      "outputs": [
        {
          "name": "stdout",
          "output_type": "stream",
          "text": [
            "False\n"
          ]
        }
      ],
      "source": [
        "salário=100\n",
        "idade=20\n",
        "print(salário>100 and idade>18) # 100>100 and 20>18\n",
        "                                #  False and True\n",
        "                                   #    False"
      ]
    },
    {
      "cell_type": "code",
      "execution_count": null,
      "metadata": {
        "colab": {
          "base_uri": "https://localhost:8080/"
        },
        "id": "ldEI7qQa_Ok6",
        "outputId": "6df9e3d6-fee1-42f8-961a-d200f3352000"
      },
      "outputs": [
        {
          "name": "stdout",
          "output_type": "stream",
          "text": [
            "1\n"
          ]
        }
      ],
      "source": [
        "print(len(\"A\"))"
      ]
    },
    {
      "cell_type": "code",
      "execution_count": null,
      "metadata": {
        "colab": {
          "base_uri": "https://localhost:8080/"
        },
        "id": "PFjDOd38_On5",
        "outputId": "8dcedb41-29bc-40ed-a235-88b634fec0b7"
      },
      "outputs": [
        {
          "name": "stdout",
          "output_type": "stream",
          "text": [
            "2\n"
          ]
        }
      ],
      "source": [
        "print(len(\"AB\"))"
      ]
    },
    {
      "cell_type": "code",
      "execution_count": null,
      "metadata": {
        "colab": {
          "base_uri": "https://localhost:8080/"
        },
        "id": "sC-OmaYU_OrI",
        "outputId": "d42d67de-6256-4b8e-8f9a-b112f8143e91"
      },
      "outputs": [
        {
          "name": "stdout",
          "output_type": "stream",
          "text": [
            "0\n"
          ]
        }
      ],
      "source": [
        "print(len(\"\"))"
      ]
    },
    {
      "cell_type": "code",
      "execution_count": null,
      "metadata": {
        "colab": {
          "base_uri": "https://localhost:8080/"
        },
        "id": "i4VBrRN__Oys",
        "outputId": "c4efa894-b8db-4d4a-e370-7978e999a20a"
      },
      "outputs": [
        {
          "name": "stdout",
          "output_type": "stream",
          "text": [
            "A\n"
          ]
        }
      ],
      "source": [
        "e=\"ABCDEF\"\n",
        "print(e[0])  #usa-se [] para ler a len, que seria a possição"
      ]
    },
    {
      "cell_type": "code",
      "execution_count": null,
      "metadata": {
        "colab": {
          "base_uri": "https://localhost:8080/"
        },
        "id": "Icumpl4t_O1s",
        "outputId": "525b7e74-05b5-415b-f8ec-0a2e92786f06"
      },
      "outputs": [
        {
          "name": "stdout",
          "output_type": "stream",
          "text": [
            "9\n"
          ]
        }
      ],
      "source": [
        "s=\"ABCDEFGHI\"\n",
        "print(len(s))"
      ]
    },
    {
      "cell_type": "code",
      "execution_count": null,
      "metadata": {
        "colab": {
          "base_uri": "https://localhost:8080/"
        },
        "id": "zfBTUPjs_O4s",
        "outputId": "b3442856-4cd6-4f33-a375-f0bb66597c1c"
      },
      "outputs": [
        {
          "name": "stdout",
          "output_type": "stream",
          "text": [
            "ABCDEFGHI\n"
          ]
        }
      ],
      "source": [
        "z=\"ABCDEFGHI\"\n",
        "print(z[:])"
      ]
    },
    {
      "cell_type": "code",
      "execution_count": null,
      "metadata": {
        "colab": {
          "base_uri": "https://localhost:8080/"
        },
        "id": "1-HvWbKz_O8L",
        "outputId": "c6c49efb-0d55-4ba0-a07b-69d121b2d9c7"
      },
      "outputs": [
        {
          "name": "stdout",
          "output_type": "stream",
          "text": [
            "EFG\n"
          ]
        }
      ],
      "source": [
        "print(z[-5:7])"
      ]
    },
    {
      "cell_type": "code",
      "execution_count": null,
      "metadata": {
        "colab": {
          "base_uri": "https://localhost:8080/"
        },
        "id": "4Nmnvz_a_O_h",
        "outputId": "32057ec7-e86f-449d-9098-123927ce6f46"
      },
      "outputs": [
        {
          "name": "stdout",
          "output_type": "stream",
          "text": [
            "600\n"
          ]
        }
      ],
      "source": [
        "\n",
        "divida=0\n",
        "compra = 100\n",
        "divida= divida +compra\n",
        "compra=200\n",
        "divida= divida + compra\n",
        "compra=300\n",
        "divida= divida+ compra\n",
        "compra= 0\n",
        "print (divida)"
      ]
    },
    {
      "cell_type": "code",
      "execution_count": null,
      "metadata": {
        "colab": {
          "base_uri": "https://localhost:8080/"
        },
        "id": "X1_Sa27s_PCp",
        "outputId": "1b96f609-55bd-4961-f15d-ba53ecb3de65"
      },
      "outputs": [
        {
          "name": "stdout",
          "output_type": "stream",
          "text": [
            "Anos de serviso: 199\n",
            "Valor por ano: 4\n",
            "Bonus de R$796.00\n"
          ]
        }
      ],
      "source": [
        "anos=int(input(\"Anos de serviso: \"))              # \"int\" pois é numero inteiro, e \"input\" para poder escrever algo\n",
        "valor_por_ano= float(input(\"Valor por ano: \"))    # \"float\" pois é numero decimal,com casa depos da virgula\n",
        "bonus= anos * valor_por_ano\n",
        "print(f\"Bonus de R${bonus:.2f}\" ) # f antes das \" para poder colocar a variavel dentro dos {} w o :.2 para setar apenas 2 casas decimais\n"
      ]
    },
    {
      "cell_type": "code",
      "execution_count": null,
      "metadata": {
        "colab": {
          "base_uri": "https://localhost:8080/"
        },
        "id": "Y1jQYb8-_PFr",
        "outputId": "05c0c30e-61ba-4780-999d-9b5c967716b1"
      },
      "outputs": [
        {
          "name": "stdout",
          "output_type": "stream",
          "text": [
            "Digite um numero:2\n",
            "Digite outro numero: 4\n",
            "A soma dos dois numero é igual a:6\n",
            "\n"
          ]
        }
      ],
      "source": [
        "# fase de entrada\n",
        "num1 = int(input(\"Digite um numero:\"))\n",
        "num2 = int(input(\"Digite outro numero: \"))\n",
        "\n",
        "#fase de processamento\n",
        "soma = (num1 + num2)\n",
        "\n",
        "#fase de saida\n",
        "print(f\"A soma dos dois numero é igual a:{soma}\")\n",
        "print()"
      ]
    },
    {
      "cell_type": "code",
      "execution_count": null,
      "metadata": {
        "colab": {
          "base_uri": "https://localhost:8080/"
        },
        "id": "IMUiYtmfCLn8",
        "outputId": "ddc532dc-fdb7-4ea7-ca00-0c146e9c8429"
      },
      "outputs": [
        {
          "name": "stdout",
          "output_type": "stream",
          "text": [
            "Informe o valor do produto: 100\n",
            "Informe a porcentagem do desconto: 100\n",
            "O valor de desconto do seu produto é de: 100.0 reais e o preço final do produto sera de:0.0 reais\n",
            "\n"
          ]
        }
      ],
      "source": [
        "#entrada\n",
        "preço= float(input(\"Informe o valor do produto: \"))\n",
        "desconto= float(input(\"Informe a porcentagem do desconto: \"))\n",
        "\n",
        "#processamento\n",
        "valor_desconto=(preço*desconto/100)\n",
        "preço_final=(preço-valor_desconto)\n",
        "\n",
        "#saida\n",
        "print(f\"O valor de desconto do seu produto é de: {valor_desconto} reais e o preço final do produto sera de:{preço_final} reais\")\n",
        "print()"
      ]
    },
    {
      "cell_type": "code",
      "execution_count": null,
      "metadata": {
        "id": "1Wvi_HHwDJJV"
      },
      "outputs": [],
      "source": [
        "velocidade=int(input(\"Qual a velocidade do seu veiculo: \"))\n",
        "multa=5*(velocidade-80)\n",
        "if velocidade> 80:   # if é o \"se\" ele só ira executar o codigo abaixo SE oque ele pede acontecer\n",
        "   print(\"Voce foi multado em R$\", multa)\n"
      ]
    },
    {
      "cell_type": "code",
      "execution_count": null,
      "metadata": {
        "colab": {
          "base_uri": "https://localhost:8080/"
        },
        "id": "3Eaa1nckVmzK",
        "outputId": "b4a80c12-19dc-4c6c-e6ae-74a2d4bf2e65"
      },
      "outputs": [
        {
          "name": "stdout",
          "output_type": "stream",
          "text": [
            "idade do veiculo: 5\n",
            "seu veiculo é velho\n"
          ]
        }
      ],
      "source": [
        "idade = int(input(\"idade do veiculo: \"))\n",
        "if idade<=3:\n",
        "   print(\"seu carro é novo\")\n",
        "else:\n",
        "            print(\"seu veiculo é velho\")"
      ]
    },
    {
      "cell_type": "code",
      "execution_count": null,
      "metadata": {
        "colab": {
          "base_uri": "https://localhost:8080/"
        },
        "id": "nF_gohILZzL6",
        "outputId": "b6cc5bc6-c337-4f61-c7ee-8255a9751897"
      },
      "outputs": [
        {
          "name": "stdout",
          "output_type": "stream",
          "text": [
            "Quantos minutos vc utilizou o telefone? 300\n",
            "vc pagara este mes R$ 54.0\n"
          ]
        }
      ],
      "source": [
        "minutos=int(input(\"Quantos minutos vc utilizou o telefone? \"))\n",
        "if minutos<200:\n",
        "  preço =0.20\n",
        "else:\n",
        "  if minutos <400:\n",
        "     preço=0.18\n",
        "  else:\n",
        "      preço=0.15\n",
        "print(\"vc pagara este mes R$\",minutos*preço)\n"
      ]
    },
    {
      "cell_type": "code",
      "execution_count": null,
      "metadata": {
        "colab": {
          "base_uri": "https://localhost:8080/"
        },
        "id": "uoLx5HwlX44c",
        "outputId": "8a43f694-0215-44ac-8a70-219d688c1eb1"
      },
      "outputs": [
        {
          "name": "stdout",
          "output_type": "stream",
          "text": [
            "Quantos km vc deseja percorrer: 1000\n",
            "O preço cobrado por essa distancia é R$450.0\n"
          ]
        }
      ],
      "source": [
        "distancia=int(input(\"Quantos km vc deseja percorrer: \"))\n",
        "\n",
        "if distancia<=200:\n",
        "  preço=(distancia*0.50)\n",
        "  print(f\"O preço cobrado por essa distancia é R${preço}\")\n",
        "else:\n",
        "  preço=(distancia*0.45)\n",
        "  print(f\"O preço cobrado por essa distancia é R${preço}\")"
      ]
    },
    {
      "cell_type": "code",
      "execution_count": null,
      "metadata": {
        "colab": {
          "base_uri": "https://localhost:8080/"
        },
        "id": "ovzleUHBcOBr",
        "outputId": "34c5b0eb-2aa5-4f05-bcc5-b2e4fa67a00a"
      },
      "outputs": [
        {
          "name": "stdout",
          "output_type": "stream",
          "text": [
            "Digite a categori do produto: 4\n",
            "O preço do seu produto é R$ 26\n"
          ]
        }
      ],
      "source": [
        "categoria=int(input(\"Digite a categori do produto: \"))\n",
        "if categoria == 1:\n",
        "  preço=10\n",
        "else:\n",
        "   if categoria==2:\n",
        "    preço=18\n",
        "   else:\n",
        "     if categoria==3:\n",
        "      preço=23\n",
        "     else:\n",
        "       if categoria ==4:\n",
        "         preço=26\n",
        "       else:\n",
        "         if categoria==5:\n",
        "          preço=31\n",
        "         else:\n",
        "           print(\"Categoria invalida, digite um numero de 1 a 5!\")\n",
        "           preço=0\n",
        "print(\"O preço do seu produto é R$\",preço)"
      ]
    },
    {
      "cell_type": "code",
      "execution_count": null,
      "metadata": {
        "colab": {
          "base_uri": "https://localhost:8080/"
        },
        "id": "WGSWVuE7fytm",
        "outputId": "407d1e86-a072-43db-b830-e49898e50528"
      },
      "outputs": [
        {
          "name": "stdout",
          "output_type": "stream",
          "text": [
            "Digite uma categoria: 6\n",
            "Categoria invalida, digite um numero de 1 a 5!\n",
            "O preço do produto é R$ 0\n"
          ]
        }
      ],
      "source": [
        "categoria=int(input(\"Digite uma categoria: \"))\n",
        "if categoria ==1:\n",
        " preço=10\n",
        "elif categoria==2:\n",
        " preço=18\n",
        "elif categoria==3:\n",
        " preço =23\n",
        "elif categoria==4:\n",
        " preço=26\n",
        "elif categoria==5:\n",
        " preço=31\n",
        "else:\n",
        "  print(\"Categoria invalida, digite um numero de 1 a 5!\")\n",
        "  preço=0\n",
        "print(\"O preço do produto é R$\",preço)\n"
      ]
    },
    {
      "cell_type": "code",
      "execution_count": null,
      "metadata": {
        "colab": {
          "base_uri": "https://localhost:8080/"
        },
        "id": "GUSmuXBoiixi",
        "outputId": "8810346d-1cec-45f9-a321-4cac036dd8ff"
      },
      "outputs": [
        {
          "name": "stdout",
          "output_type": "stream",
          "text": [
            "Digite o primeiro numero: 6\n",
            "Qual operação dejesa realizar? +6\n",
            "Digite o segundo numero: 6\n",
            "sinal invalido\n",
            " seu resultado é:  \n"
          ]
        }
      ],
      "source": [
        "n1=float(input(\"Digite o primeiro numero: \"))\n",
        "sinal=str(input(\"Qual operação dejesa realizar? \"))\n",
        "n2=float(input(\"Digite o segundo numero: \"))\n",
        "\n",
        "if sinal == \"+\":\n",
        " resultado=(n1+n2)\n",
        "elif sinal== \"-\":\n",
        " resultado=(n1-n2)\n",
        "elif sinal ==\"*\":\n",
        "  resultado=(n1*n2)\n",
        "elif sinal==\"/\":\n",
        "  resultado=(n1/n2)\n",
        "elif len(sinal)!=1:\n",
        "  print(\"sinal invalido\")\n",
        "  resultado=(\"\")\n",
        "print(\" seu resultado é: \",resultado)\n"
      ]
    },
    {
      "cell_type": "code",
      "execution_count": null,
      "metadata": {
        "colab": {
          "base_uri": "https://localhost:8080/"
        },
        "id": "ejKBpAcFnSa3",
        "outputId": "2e237157-31e9-4156-e60e-fb2ad07f3837"
      },
      "outputs": [
        {
          "name": "stdout",
          "output_type": "stream",
          "text": [
            "Para vermos se seu imprstimo sera aprovado precisaremos de algumas informaçãoes.\n",
            "Qual o valor da casa? 1\n",
            "Em quantos anos foi divididas as parcelas? 1\n",
            "Qual o seu salario? 2222\n",
            "Aprovado(:\n"
          ]
        }
      ],
      "source": [
        "print(\"Para vermos se seu imprstimo sera aprovado precisaremos de algumas informaçãoes.\")\n",
        "casa =float(input(\"Qual o valor da casa? \"))\n",
        "anos= int(input(\"Em quantos anos foi divididas as parcelas? \"))\n",
        "salario=float(input(\"Qual o seu salario? \"))\n",
        "prestação= casa/(anos*12)\n",
        "\n",
        "if prestação<(salario*30/100):\n",
        " resultado=\"Aprovado(:\"\n",
        "else:\n",
        " resultado=\"Negado:(\"\n",
        "print(resultado)\n"
      ]
    },
    {
      "cell_type": "code",
      "execution_count": null,
      "metadata": {
        "colab": {
          "base_uri": "https://localhost:8080/"
        },
        "id": "6KVcDhTx2q8_",
        "outputId": "568ed8fb-e3a5-4a9a-bf3f-ef415e1d6cd7"
      },
      "outputs": [
        {
          "name": "stdout",
          "output_type": "stream",
          "text": [
            "Qual a quantidade de kWh é consumida? 333333\n",
            "Qual a instituição? R,I ou C: i\n",
            "Seu valor a apagar é R$199999.80\n"
          ]
        }
      ],
      "source": [
        "kwh=float(input(\"Qual a quantidade de kWh é consumida? \"))\n",
        "insti=str(input(\"Qual a instituição? R,I ou C: \"))\n",
        "\n",
        "if (insti==\"R\" or insti==\"r\") and kwh<=500:\n",
        "   preço=float(0.40*kwh)\n",
        "elif (insti==\"R\" or insti==\"r\") and kwh>500:\n",
        "   preço=float(0.65*kwh)\n",
        "elif (insti==\"C\" or insti==\"c\")and kwh<=1000:\n",
        "   preço=float(0.55*kwh)\n",
        "elif (insti==\"C\"or insti==\"c\") and kwh>1000:\n",
        "  preço==float(0.60*kwh)\n",
        "elif (insti==\"I\" or insti==\"i\") and kwh<=5000:\n",
        "  preço=(0.55*kwh)\n",
        "elif (insti==\"I\" or insti==\"i\") and kwh>5000:\n",
        "  preço=(0.60*kwh)\n",
        "else:\n",
        "  print(\"Instituição invalida\")\n",
        "  preço=(\"\")\n",
        "print(f\"Seu valor a apagar é R${preço:.2f}\")"
      ]
    },
    {
      "cell_type": "code",
      "execution_count": null,
      "metadata": {
        "colab": {
          "base_uri": "https://localhost:8080/"
        },
        "id": "xTtdB28k_UBG",
        "outputId": "c99ed4d2-bd06-455f-8790-db59483f83dc"
      },
      "outputs": [
        {
          "name": "stdout",
          "output_type": "stream",
          "text": [
            "1\n",
            "2\n",
            "3\n"
          ]
        }
      ],
      "source": [
        "x=1\n",
        "while x<=3:\n",
        "  print(x)\n",
        "  x=x+1"
      ]
    },
    {
      "cell_type": "code",
      "execution_count": null,
      "metadata": {
        "id": "-KrPSbDJ_lYo"
      },
      "outputs": [],
      "source": [
        "x=1\n",
        "while x<=100:\n",
        "  print(x)\n",
        "  x= x+1\n"
      ]
    },
    {
      "cell_type": "code",
      "execution_count": null,
      "metadata": {
        "id": "7kf3IEgYAsL7"
      },
      "outputs": [],
      "source": [
        "x=50\n",
        "while x<=100:\n",
        " print(x)\n",
        " x= x+1\n"
      ]
    },
    {
      "cell_type": "code",
      "execution_count": null,
      "metadata": {
        "colab": {
          "base_uri": "https://localhost:8080/"
        },
        "id": "uD6XV0EcA7jv",
        "outputId": "9c9d8302-5dd1-47e7-aa6c-93b578b5e239"
      },
      "outputs": [
        {
          "name": "stdout",
          "output_type": "stream",
          "text": [
            "10\n",
            "9\n",
            "8\n",
            "7\n",
            "6\n",
            "5\n",
            "4\n",
            "3\n",
            "2\n",
            "1\n",
            "0\n",
            "FOGO!!\n"
          ]
        }
      ],
      "source": [
        "x=10\n",
        "while x>=0:\n",
        "  print(x)\n",
        "  x=x-1\n",
        "print(\"FOGO!!\")"
      ]
    },
    {
      "cell_type": "code",
      "execution_count": null,
      "metadata": {
        "colab": {
          "base_uri": "https://localhost:8080/"
        },
        "id": "DdMjdpW3BNw3",
        "outputId": "469ef1c4-2b86-4930-dc11-84021e263fd4"
      },
      "outputs": [
        {
          "name": "stdout",
          "output_type": "stream",
          "text": [
            "Escolha ate que numero deseja contar: 3\n",
            "1\n",
            "2\n",
            "3\n"
          ]
        }
      ],
      "source": [
        "fim=int(input(\"Escolha ate que numero deseja contar: \"))\n",
        "x=1\n",
        "while x<=fim:\n",
        " print(x)\n",
        " x=x+1\n"
      ]
    },
    {
      "cell_type": "code",
      "execution_count": null,
      "metadata": {
        "colab": {
          "base_uri": "https://localhost:8080/"
        },
        "id": "QzChHzr6DS0-",
        "outputId": "e8790150-787a-4db6-8d3d-8453915cd7fe"
      },
      "outputs": [
        {
          "name": "stdout",
          "output_type": "stream",
          "text": [
            "Escolha ate que numero deseja contar: 7\n",
            "0\n",
            "2\n",
            "4\n",
            "6\n"
          ]
        }
      ],
      "source": [
        "fim=int(input(\"Escolha ate que numero deseja contar: \"))\n",
        "x=0\n",
        "while x<=fim:\n",
        " if x % 2 ==0:\n",
        "  print(x)\n",
        " x=x+1"
      ]
    },
    {
      "cell_type": "code",
      "execution_count": null,
      "metadata": {
        "colab": {
          "base_uri": "https://localhost:8080/"
        },
        "id": "-Y01L_TRDqdw",
        "outputId": "638c4569-e9ac-4740-bd37-b8fde858f5b8"
      },
      "outputs": [
        {
          "name": "stdout",
          "output_type": "stream",
          "text": [
            "Escolha ate que numero deseja contar: 7\n",
            "0\n",
            "2\n",
            "4\n",
            "6\n"
          ]
        }
      ],
      "source": [
        "fim=int(input(\"Escolha ate que numero deseja contar: \"))\n",
        "x=0\n",
        "while x<=fim:\n",
        " print(x)\n",
        " x=x+2"
      ]
    },
    {
      "cell_type": "code",
      "execution_count": null,
      "metadata": {
        "colab": {
          "base_uri": "https://localhost:8080/"
        },
        "id": "RKlUr88EEPix",
        "outputId": "c90fc765-7aa0-4305-d7fd-5c9fe3a94487"
      },
      "outputs": [
        {
          "name": "stdout",
          "output_type": "stream",
          "text": [
            "Escolha ate que numero deseja contar: 7\n",
            "1\n",
            "3\n",
            "5\n",
            "7\n"
          ]
        }
      ],
      "source": [
        "fim=int(input(\"Escolha ate que numero deseja contar: \"))\n",
        "x=0\n",
        "while x<=fim:\n",
        " if x % 2!=0:\n",
        "  print(x)\n",
        " x=x+1"
      ]
    },
    {
      "cell_type": "code",
      "execution_count": null,
      "metadata": {
        "colab": {
          "base_uri": "https://localhost:8080/"
        },
        "id": "a-wPoqOBEX93",
        "outputId": "3846bdd9-ef32-4839-8205-aadfaaa9b517"
      },
      "outputs": [
        {
          "name": "stdout",
          "output_type": "stream",
          "text": [
            "Escolha ate que numero deseja contar: 9\n",
            "0\n",
            "3\n",
            "6\n",
            "9\n"
          ]
        }
      ],
      "source": [
        "fim=int(input(\"Escolha ate que numero deseja contar: \"))\n",
        "x=0\n",
        "while x<=fim:\n",
        "  if x%3==0:\n",
        "    print(x)\n",
        "  x=x+1"
      ]
    },
    {
      "cell_type": "code",
      "execution_count": null,
      "metadata": {
        "colab": {
          "base_uri": "https://localhost:8080/"
        },
        "id": "DG0jIlF-ExkI",
        "outputId": "c7ba8f86-fa08-4a81-9592-86be646c0bd6"
      },
      "outputs": [
        {
          "name": "stdout",
          "output_type": "stream",
          "text": [
            "Tabuada de:5\n",
            "5\n",
            "10\n",
            "15\n",
            "20\n",
            "25\n",
            "30\n",
            "35\n",
            "40\n",
            "45\n",
            "50\n",
            "55\n",
            "60\n",
            "65\n",
            "70\n",
            "75\n",
            "80\n",
            "85\n",
            "90\n",
            "95\n",
            "100\n",
            "105\n"
          ]
        }
      ],
      "source": [
        "n= int(input(\"Tabuada de:\")) #esse progama nos da os procimos 10 numers q digitarmos\n",
        "x=0\n",
        "while x <=100: # aqui escolhemos até qual multiplo mais perto queremos\n",
        " print (n+x)\n",
        " x=x+n"
      ]
    },
    {
      "cell_type": "code",
      "execution_count": null,
      "metadata": {
        "colab": {
          "base_uri": "https://localhost:8080/"
        },
        "id": "maYD3BvvHk7v",
        "outputId": "9926decc-763e-4f08-ae5c-1fb147d5b424"
      },
      "outputs": [
        {
          "name": "stdout",
          "output_type": "stream",
          "text": [
            "Tabuada: 4\n",
            "4\n",
            "8\n",
            "12\n",
            "16\n",
            "20\n",
            "24\n",
            "28\n",
            "32\n",
            "36\n",
            "40\n"
          ]
        }
      ],
      "source": [
        "n= int(input(\"Tabuada: \"))\n",
        "x= 1\n",
        "while x<=10:\n",
        " print(n*x)\n",
        " x=x+1"
      ]
    },
    {
      "cell_type": "code",
      "execution_count": null,
      "metadata": {
        "colab": {
          "base_uri": "https://localhost:8080/"
        },
        "id": "W6CW9MrC8hxn",
        "outputId": "b6aa9b75-d8db-4f50-fff3-d5f318f1c61d"
      },
      "outputs": [
        {
          "name": "stdout",
          "output_type": "stream",
          "text": [
            "Tabuada: 4\n",
            "4\n",
            "8\n",
            "12\n",
            "16\n",
            "20\n",
            "24\n",
            "28\n",
            "32\n",
            "36\n",
            "40\n"
          ]
        }
      ],
      "source": [
        "n= int(input(\"Tabuada: \"))\n",
        "x= 1\n",
        "while x<=10:\n",
        " print(n*x)\n",
        " x=x+1"
      ]
    },
    {
      "cell_type": "code",
      "execution_count": null,
      "metadata": {
        "colab": {
          "base_uri": "https://localhost:8080/"
        },
        "id": "U6DptTES8nz1",
        "outputId": "180ee87f-9a3a-4e92-b9a0-671bd9e86a16"
      },
      "outputs": [
        {
          "name": "stdout",
          "output_type": "stream",
          "text": [
            "Tabuada: 8\n",
            "inicio: 0\n",
            "fim: 188\n",
            "0\n",
            "8\n",
            "16\n",
            "24\n",
            "32\n",
            "40\n",
            "48\n",
            "56\n",
            "64\n",
            "72\n",
            "80\n",
            "88\n",
            "96\n",
            "104\n",
            "112\n",
            "120\n",
            "128\n",
            "136\n",
            "144\n",
            "152\n",
            "160\n",
            "168\n",
            "176\n",
            "184\n"
          ]
        }
      ],
      "source": [
        "n= int(input(\"Tabuada: \"))                  # para funcionar vc precisa escoler para inicar em um multiplo do numero escolhido\n",
        "inicio=int(input(\"inicio: \"))\n",
        "fim=int(input(\"fim: \"))\n",
        "\n",
        "while inicio<=fim:\n",
        " print(inicio)\n",
        " inicio=(inicio+n)\n"
      ]
    },
    {
      "cell_type": "code",
      "execution_count": null,
      "metadata": {
        "colab": {
          "background_save": true
        },
        "id": "z2rH5Kd481Y1"
      },
      "outputs": [],
      "source": [
        "n + int(input(\" Tabuada de: \"))\n",
        "x=1\n",
        "while x <=10:\n",
        "  print(f\"{n}*{x} = {n*x}\")\n",
        "  x=+1\n"
      ]
    },
    {
      "cell_type": "code",
      "source": [
        "pontos = 0\n",
        "questao = 1\n",
        "while questao <=3:\n",
        "  r = input(f\"Resposta da questao {questao}:  \")\n",
        "  if  questao == 1 and (r == \"b\" or r == \"B\"):\n",
        "    pontos += 1\n",
        "  if  questao == 2 and (r == \"a\" or r == \"A\"):\n",
        "    pontos += 1\n",
        "  if  questao == 3 and (r == \"d\" or r == \"D\"):\n",
        "    pontos += 1\n",
        "  questao += 1\n",
        "print(f\"VC fez {pontos} pontos\")"
      ],
      "metadata": {
        "colab": {
          "base_uri": "https://localhost:8080/"
        },
        "id": "KZxmKNULFQw0",
        "outputId": "f117629c-f303-402d-bf50-988920eb8fd0"
      },
      "execution_count": null,
      "outputs": [
        {
          "output_type": "stream",
          "name": "stdout",
          "text": [
            "Resposta da questao 1:  B\n",
            "Resposta da questao 2:  a\n",
            "Resposta da questao 3:  D\n",
            "VC fez 3 pontos\n"
          ]
        }
      ]
    },
    {
      "cell_type": "code",
      "source": [
        "n = 1\n",
        "soma = 0\n",
        "while n <= 10:\n",
        "   x = int(input(f\"irei somas 10 numeros para vc, um por vez,digite o {n} numero, resultado atual: \"))\n",
        "   soma += x\n",
        "   n += 1\n",
        "print(f\"soma: {soma}\")"
      ],
      "metadata": {
        "colab": {
          "base_uri": "https://localhost:8080/"
        },
        "id": "vz5pNMv4Dr07",
        "outputId": "21314428-9b31-4aca-8214-5039e9fc3ec2"
      },
      "execution_count": null,
      "outputs": [
        {
          "output_type": "stream",
          "name": "stdout",
          "text": [
            "irei somas 10 numeros para vc, um por vez,digite o 1 numero, resultado atual: 10\n",
            "irei somas 10 numeros para vc, um por vez,digite o 2 numero, resultado atual: 12\n",
            "irei somas 10 numeros para vc, um por vez,digite o 3 numero, resultado atual: 12\n",
            "irei somas 10 numeros para vc, um por vez,digite o 4 numero, resultado atual: 2\n",
            "irei somas 10 numeros para vc, um por vez,digite o 5 numero, resultado atual: 3\n",
            "irei somas 10 numeros para vc, um por vez,digite o 6 numero, resultado atual: 23\n",
            "irei somas 10 numeros para vc, um por vez,digite o 7 numero, resultado atual: 232\n",
            "irei somas 10 numeros para vc, um por vez,digite o 8 numero, resultado atual: 22\n",
            "irei somas 10 numeros para vc, um por vez,digite o 9 numero, resultado atual: 11\n",
            "irei somas 10 numeros para vc, um por vez,digite o 10 numero, resultado atual: 11\n",
            "soma: 338\n"
          ]
        }
      ]
    },
    {
      "cell_type": "code",
      "source": [
        "n = 1\n",
        "soma = 0\n",
        "while n <= 5:\n",
        "  x = int(input(f\"favor digitar suas 5 notas, uma de cade vez {n}º nota: \"))\n",
        "  soma += x\n",
        "  n +=1\n",
        "print(f\"sua media é {soma/5}\")"
      ],
      "metadata": {
        "colab": {
          "base_uri": "https://localhost:8080/"
        },
        "id": "Y2rswn_bGwLs",
        "outputId": "f9883db9-3546-44c7-a623-ea81680f00fb"
      },
      "execution_count": null,
      "outputs": [
        {
          "output_type": "stream",
          "name": "stdout",
          "text": [
            "favor digitar suas 5 notas, uma de cade vez 1º nota: 12\n",
            "favor digitar suas 5 notas, uma de cade vez 2º nota: 12\n",
            "favor digitar suas 5 notas, uma de cade vez 3º nota: 12\n",
            "favor digitar suas 5 notas, uma de cade vez 4º nota: 5\n",
            "favor digitar suas 5 notas, uma de cade vez 5º nota: 5\n",
            "sua media é 9.2\n"
          ]
        }
      ]
    },
    {
      "cell_type": "code",
      "source": [
        "d = int(input(\" qual o valor do deposito?: \"))\n",
        "j = int(input(\" informe o porcentagem do juros ao mes: \"))\n",
        "n = 1\n",
        "x = ((j/100)*d)+d\n",
        "\n",
        "while n <= 24:\n",
        "   print(f\"o valor do seu depoisito com juros no {n}º mes vai ser de {x}\")\n",
        "   x +=  ((j/100)*x)\n",
        "   n += 1"
      ],
      "metadata": {
        "colab": {
          "base_uri": "https://localhost:8080/"
        },
        "id": "yPq6t5s4HvrF",
        "outputId": "b309dc67-3b5e-473d-dc1c-b31ec8beb045"
      },
      "execution_count": null,
      "outputs": [
        {
          "output_type": "stream",
          "name": "stdout",
          "text": [
            " qual o valor do deposito?: 10\n",
            " informe o porcentagem do juros ao mes: 100\n",
            "o valor do seu depoisito com juros no 1º mes vai ser de 20.0\n",
            "o valor do seu depoisito com juros no 2º mes vai ser de 40.0\n",
            "o valor do seu depoisito com juros no 3º mes vai ser de 80.0\n",
            "o valor do seu depoisito com juros no 4º mes vai ser de 160.0\n",
            "o valor do seu depoisito com juros no 5º mes vai ser de 320.0\n",
            "o valor do seu depoisito com juros no 6º mes vai ser de 640.0\n",
            "o valor do seu depoisito com juros no 7º mes vai ser de 1280.0\n",
            "o valor do seu depoisito com juros no 8º mes vai ser de 2560.0\n",
            "o valor do seu depoisito com juros no 9º mes vai ser de 5120.0\n",
            "o valor do seu depoisito com juros no 10º mes vai ser de 10240.0\n",
            "o valor do seu depoisito com juros no 11º mes vai ser de 20480.0\n",
            "o valor do seu depoisito com juros no 12º mes vai ser de 40960.0\n",
            "o valor do seu depoisito com juros no 13º mes vai ser de 81920.0\n",
            "o valor do seu depoisito com juros no 14º mes vai ser de 163840.0\n",
            "o valor do seu depoisito com juros no 15º mes vai ser de 327680.0\n",
            "o valor do seu depoisito com juros no 16º mes vai ser de 655360.0\n",
            "o valor do seu depoisito com juros no 17º mes vai ser de 1310720.0\n",
            "o valor do seu depoisito com juros no 18º mes vai ser de 2621440.0\n",
            "o valor do seu depoisito com juros no 19º mes vai ser de 5242880.0\n",
            "o valor do seu depoisito com juros no 20º mes vai ser de 10485760.0\n",
            "o valor do seu depoisito com juros no 21º mes vai ser de 20971520.0\n",
            "o valor do seu depoisito com juros no 22º mes vai ser de 41943040.0\n",
            "o valor do seu depoisito com juros no 23º mes vai ser de 83886080.0\n",
            "o valor do seu depoisito com juros no 24º mes vai ser de 167772160.0\n"
          ]
        }
      ]
    },
    {
      "cell_type": "code",
      "source": [
        "d = int(input(\" qual o valor do deposito?: \"))                       # nem sei se ta certo kkkkkkk\n",
        "j = int(input(\" informe o porcentagem do juros ao mes: \"))                     # acho q antes tava certo e eu apaguei\n",
        "m = int(input(\"Indorme o valor que vc pretende depositar ao mes: \"))\n",
        "n = 1\n",
        "d == (((j/100)*d)+d)                                                         # nem sei direito oq rolou aqui\n",
        "\n",
        "while n <= 24:\n",
        "   print(f\"o valor gerado por juros no {n}º mes vai ser de: {d} \\n e o valor total na conta vai ser de {d*2}\")\n",
        "   n += 1\n",
        "   d +=  ((j/100)*d) + m\n",
        "\n"
      ],
      "metadata": {
        "colab": {
          "base_uri": "https://localhost:8080/"
        },
        "id": "j-nhiRa6MWW3",
        "outputId": "35b9398d-fd5d-4074-cc48-1aebdc340964"
      },
      "execution_count": null,
      "outputs": [
        {
          "output_type": "stream",
          "name": "stdout",
          "text": [
            " qual o valor do deposito?: 10\n",
            " informe o porcentagem do juros ao mes: 100\n",
            "Indorme o valor que vc pretende depositar ao mes: 10\n",
            "o valor gerado por juros no 1º mes vai ser de: 10 \n",
            " e o valor total na conta vai ser de 20\n",
            "o valor gerado por juros no 2º mes vai ser de: 30.0 \n",
            " e o valor total na conta vai ser de 60.0\n",
            "o valor gerado por juros no 3º mes vai ser de: 70.0 \n",
            " e o valor total na conta vai ser de 140.0\n",
            "o valor gerado por juros no 4º mes vai ser de: 150.0 \n",
            " e o valor total na conta vai ser de 300.0\n",
            "o valor gerado por juros no 5º mes vai ser de: 310.0 \n",
            " e o valor total na conta vai ser de 620.0\n",
            "o valor gerado por juros no 6º mes vai ser de: 630.0 \n",
            " e o valor total na conta vai ser de 1260.0\n",
            "o valor gerado por juros no 7º mes vai ser de: 1270.0 \n",
            " e o valor total na conta vai ser de 2540.0\n",
            "o valor gerado por juros no 8º mes vai ser de: 2550.0 \n",
            " e o valor total na conta vai ser de 5100.0\n",
            "o valor gerado por juros no 9º mes vai ser de: 5110.0 \n",
            " e o valor total na conta vai ser de 10220.0\n",
            "o valor gerado por juros no 10º mes vai ser de: 10230.0 \n",
            " e o valor total na conta vai ser de 20460.0\n",
            "o valor gerado por juros no 11º mes vai ser de: 20470.0 \n",
            " e o valor total na conta vai ser de 40940.0\n",
            "o valor gerado por juros no 12º mes vai ser de: 40950.0 \n",
            " e o valor total na conta vai ser de 81900.0\n",
            "o valor gerado por juros no 13º mes vai ser de: 81910.0 \n",
            " e o valor total na conta vai ser de 163820.0\n",
            "o valor gerado por juros no 14º mes vai ser de: 163830.0 \n",
            " e o valor total na conta vai ser de 327660.0\n",
            "o valor gerado por juros no 15º mes vai ser de: 327670.0 \n",
            " e o valor total na conta vai ser de 655340.0\n",
            "o valor gerado por juros no 16º mes vai ser de: 655350.0 \n",
            " e o valor total na conta vai ser de 1310700.0\n",
            "o valor gerado por juros no 17º mes vai ser de: 1310710.0 \n",
            " e o valor total na conta vai ser de 2621420.0\n",
            "o valor gerado por juros no 18º mes vai ser de: 2621430.0 \n",
            " e o valor total na conta vai ser de 5242860.0\n",
            "o valor gerado por juros no 19º mes vai ser de: 5242870.0 \n",
            " e o valor total na conta vai ser de 10485740.0\n",
            "o valor gerado por juros no 20º mes vai ser de: 10485750.0 \n",
            " e o valor total na conta vai ser de 20971500.0\n",
            "o valor gerado por juros no 21º mes vai ser de: 20971510.0 \n",
            " e o valor total na conta vai ser de 41943020.0\n",
            "o valor gerado por juros no 22º mes vai ser de: 41943030.0 \n",
            " e o valor total na conta vai ser de 83886060.0\n",
            "o valor gerado por juros no 23º mes vai ser de: 83886070.0 \n",
            " e o valor total na conta vai ser de 167772140.0\n",
            "o valor gerado por juros no 24º mes vai ser de: 167772150.0 \n",
            " e o valor total na conta vai ser de 335544300.0\n"
          ]
        }
      ]
    },
    {
      "cell_type": "markdown",
      "source": [
        "Nem me pergunte como"
      ],
      "metadata": {
        "id": "_2F_AJaprVqR"
      }
    },
    {
      "cell_type": "code",
      "source": [
        "# é aqula historia né, se funciona n reclama\n",
        "\n",
        "d = int(input(\"informe o valor da divida: \"))\n",
        "j = int(input(\"informe o a porcentagem do juros ao mes: \"))\n",
        "p = int(input(\"informe o valor q vc pagara por mes: \"))\n",
        "de = ((j/100)*d)+d\n",
        "n = 1\n",
        "total_pago = p\n",
        "\n",
        "while 0 < de:\n",
        "  print(f\"valor da divida no {n}° mes pagando sera de: {de-p} \\n vc pagou no total {total_pago} \")\n",
        "  n +=1\n",
        "  total_pago += p\n",
        "  de = (de-p)\n",
        "  de += ((j/100)*de)\n",
        "juros = total_pago -p- d\n",
        "print()\n",
        "print(f\"o total de meses para pagar a divida foi de {n-1}\\n o toltal de juros pago foi de {juros}\\n o total pago foi de {total_pago-p}\")\n"
      ],
      "metadata": {
        "colab": {
          "base_uri": "https://localhost:8080/"
        },
        "id": "3mE1_PagZtZd",
        "outputId": "7c4395db-d935-4c7c-8e4b-9c181fee50d8"
      },
      "execution_count": null,
      "outputs": [
        {
          "output_type": "stream",
          "name": "stdout",
          "text": [
            "informe o valor da divida: 10\n",
            "informe o a porcentagem do juros ao mes: 0\n",
            "informe o valor q vc pagara por mes: 1\n",
            "valor da divida no 1° mes pagando sera de: 9.0 \n",
            " vc pagou no total 1 \n",
            "valor da divida no 2° mes pagando sera de: 8.0 \n",
            " vc pagou no total 2 \n",
            "valor da divida no 3° mes pagando sera de: 7.0 \n",
            " vc pagou no total 3 \n",
            "valor da divida no 4° mes pagando sera de: 6.0 \n",
            " vc pagou no total 4 \n",
            "valor da divida no 5° mes pagando sera de: 5.0 \n",
            " vc pagou no total 5 \n",
            "valor da divida no 6° mes pagando sera de: 4.0 \n",
            " vc pagou no total 6 \n",
            "valor da divida no 7° mes pagando sera de: 3.0 \n",
            " vc pagou no total 7 \n",
            "valor da divida no 8° mes pagando sera de: 2.0 \n",
            " vc pagou no total 8 \n",
            "valor da divida no 9° mes pagando sera de: 1.0 \n",
            " vc pagou no total 9 \n",
            "valor da divida no 10° mes pagando sera de: 0.0 \n",
            " vc pagou no total 10 \n",
            "\n",
            "o total de meses para pagar a divida foi de 10\n",
            " o toltal de juros pago foi de 0\n",
            " o total pago foi de 10\n"
          ]
        }
      ]
    },
    {
      "cell_type": "code",
      "source": [
        "s = 0\n",
        "while True:\n",
        "  v = int(input(\"digite um numero na soma ou 0 para encerrar a soma: \"))\n",
        "  if v == 0:\n",
        "   break\n",
        "  s += v\n",
        "print(s)"
      ],
      "metadata": {
        "colab": {
          "base_uri": "https://localhost:8080/"
        },
        "id": "dC8tA8HkrTLH",
        "outputId": "1ed7800d-22d4-420d-d1b7-ed70e57a6863"
      },
      "execution_count": null,
      "outputs": [
        {
          "output_type": "stream",
          "name": "stdout",
          "text": [
            "digite um numero na soma ou 0 para encerrar a soma: 2\n",
            "digite um numero na soma ou 0 para encerrar a soma: 3\n",
            "digite um numero na soma ou 0 para encerrar a soma: 4\n",
            "digite um numero na soma ou 0 para encerrar a soma: 7\n",
            "digite um numero na soma ou 0 para encerrar a soma: 11\n",
            "digite um numero na soma ou 0 para encerrar a soma: 32\n",
            "digite um numero na soma ou 0 para encerrar a soma: 3\n",
            "digite um numero na soma ou 0 para encerrar a soma: 0\n",
            "62\n"
          ]
        }
      ]
    },
    {
      "cell_type": "code",
      "source": [
        "s = 0\n",
        "n = 1\n",
        "while True:\n",
        "  v = int(input(f\"Digite o valor do {n}º numero: \"))\n",
        "\n",
        "  if v == 0:\n",
        "    break\n",
        "  n +=1\n",
        "  s += v\n",
        "print(f\"vc digitou {n-1} numeros, a soma deles deu {s}, a media desses numereros foi {s/(n-1)}\")"
      ],
      "metadata": {
        "colab": {
          "base_uri": "https://localhost:8080/"
        },
        "id": "TWp3U2vLmdMt",
        "outputId": "06cd7c6d-63fc-456e-8e97-810abd3d38f1"
      },
      "execution_count": null,
      "outputs": [
        {
          "output_type": "stream",
          "name": "stdout",
          "text": [
            "Digite o valor do 1º numero: 1\n",
            "Digite o valor do 2º numero: 1\n",
            "Digite o valor do 3º numero: 1\n",
            "Digite o valor do 4º numero: 1\n",
            "Digite o valor do 5º numero: 0\n",
            "vc digitou 4 numeros, a soma deles deu 4, a media desses numereros foi 1.0\n"
          ]
        }
      ]
    },
    {
      "cell_type": "code",
      "source": [
        "s = 0\n",
        "\n",
        "while True:\n",
        "  a = int(input(\"insira o codigo do produto que deseja comprar: \"))\n",
        "  b = int(input(\"insira quantas vezes dejesa comprar esse prodtu: \"))\n",
        "\n",
        "  if a == 0:\n",
        "    break\n",
        "\n",
        "  else:\n",
        "   if a == 1:\n",
        "    s = s + (0.5*b)\n",
        "\n",
        "   if a == 2:\n",
        "    s += (1*b)\n",
        "\n",
        "   if a == 3:\n",
        "    s += (4*b)\n",
        "\n",
        "   if a == 5:\n",
        "    s += (7*b)\n",
        "\n",
        "   if a ==9:\n",
        "    s += (8*b)\n",
        "\n",
        "   else:\n",
        "    print(\"Codigo invalido, compra não computada, favor digitar um codigo valido\")\n",
        "\n",
        "print(f\"o total da sua compra foi de {s}\")\n"
      ],
      "metadata": {
        "id": "xNH2wM71oNBO"
      },
      "execution_count": null,
      "outputs": []
    },
    {
      "cell_type": "code",
      "source": [
        "# por algum motivo ele só da a moeda de 1 centavo quando ele quer, então as veses fica faltando 1 centavo, mas n é sempre\n",
        "v = float(input(\"Digite o valor a pagar:\"))\n",
        "c = 0\n",
        "atual = 100.00\n",
        "apagar = v\n",
        "while True:\n",
        "    if atual <= apagar:\n",
        "        apagar -= atual\n",
        "        c += 1\n",
        "    else:\n",
        "        if atual >= 1:\n",
        "            print(f\"{c} cédula(s) de R$ {atual}\")\n",
        "        else:\n",
        "            print(f\"{c} moeda(s) de R${atual: .2f}\")\n",
        "        if apagar < 0.01:\n",
        "           break\n",
        "        elif atual == 100:\n",
        "            atual = 50\n",
        "\n",
        "        elif atual == 50:\n",
        "            atual = 20\n",
        "\n",
        "        elif atual == 20:\n",
        "            atual = 10\n",
        "\n",
        "        elif atual == 10:\n",
        "            atual = 5\n",
        "\n",
        "        elif atual == 5:\n",
        "            atual = 1\n",
        "\n",
        "        elif atual == 1:\n",
        "            atual = 0.50\n",
        "\n",
        "        elif atual == 0.50:\n",
        "            atual = 0.25\n",
        "\n",
        "        elif atual == 0.25:\n",
        "            atual = 0.20\n",
        "\n",
        "        elif atual == 0.20:\n",
        "            atual = 0.10\n",
        "\n",
        "        elif atual == 0.10:\n",
        "            atual = 0.05\n",
        "\n",
        "        elif atual == 0.05:\n",
        "            atual = 0.02\n",
        "\n",
        "        elif atual == 0.02:\n",
        "            atual = 0.01\n",
        "\n",
        "        c = 0"
      ],
      "metadata": {
        "id": "3XSU_8EcvMZh",
        "colab": {
          "base_uri": "https://localhost:8080/"
        },
        "outputId": "b00e5e08-a08e-48e2-9f47-efc88fd38527"
      },
      "execution_count": 1,
      "outputs": [
        {
          "output_type": "stream",
          "name": "stdout",
          "text": [
            "Digite o valor a pagar:54\n",
            "0 cédula(s) de R$ 100.0\n",
            "1 cédula(s) de R$ 50\n",
            "0 cédula(s) de R$ 20\n",
            "0 cédula(s) de R$ 10\n",
            "0 cédula(s) de R$ 5\n",
            "4 cédula(s) de R$ 1\n"
          ]
        }
      ]
    },
    {
      "cell_type": "code",
      "source": [
        "tabuada = 1\n",
        "while tabuada <= 10:\n",
        "  numero = 1\n",
        "  while numero <= 10:\n",
        "    print(f\"{tabuada}x{numero} = {tabuada*numero}\")\n",
        "    numero +=1\n",
        "  print(\"\")\n",
        "  tabuada +=1"
      ],
      "metadata": {
        "id": "AjjBv2UB2k6f",
        "colab": {
          "base_uri": "https://localhost:8080/"
        },
        "outputId": "22fd504f-639e-4e49-9c8c-95930a0e4821"
      },
      "execution_count": 6,
      "outputs": [
        {
          "output_type": "stream",
          "name": "stdout",
          "text": [
            "1x1 = 1\n",
            "1x2 = 2\n",
            "1x3 = 3\n",
            "1x4 = 4\n",
            "1x5 = 5\n",
            "1x6 = 6\n",
            "1x7 = 7\n",
            "1x8 = 8\n",
            "1x9 = 9\n",
            "1x10 = 10\n",
            "\n",
            "2x1 = 2\n",
            "2x2 = 4\n",
            "2x3 = 6\n",
            "2x4 = 8\n",
            "2x5 = 10\n",
            "2x6 = 12\n",
            "2x7 = 14\n",
            "2x8 = 16\n",
            "2x9 = 18\n",
            "2x10 = 20\n",
            "\n",
            "3x1 = 3\n",
            "3x2 = 6\n",
            "3x3 = 9\n",
            "3x4 = 12\n",
            "3x5 = 15\n",
            "3x6 = 18\n",
            "3x7 = 21\n",
            "3x8 = 24\n",
            "3x9 = 27\n",
            "3x10 = 30\n",
            "\n",
            "4x1 = 4\n",
            "4x2 = 8\n",
            "4x3 = 12\n",
            "4x4 = 16\n",
            "4x5 = 20\n",
            "4x6 = 24\n",
            "4x7 = 28\n",
            "4x8 = 32\n",
            "4x9 = 36\n",
            "4x10 = 40\n",
            "\n",
            "5x1 = 5\n",
            "5x2 = 10\n",
            "5x3 = 15\n",
            "5x4 = 20\n",
            "5x5 = 25\n",
            "5x6 = 30\n",
            "5x7 = 35\n",
            "5x8 = 40\n",
            "5x9 = 45\n",
            "5x10 = 50\n",
            "\n",
            "6x1 = 6\n",
            "6x2 = 12\n",
            "6x3 = 18\n",
            "6x4 = 24\n",
            "6x5 = 30\n",
            "6x6 = 36\n",
            "6x7 = 42\n",
            "6x8 = 48\n",
            "6x9 = 54\n",
            "6x10 = 60\n",
            "\n",
            "7x1 = 7\n",
            "7x2 = 14\n",
            "7x3 = 21\n",
            "7x4 = 28\n",
            "7x5 = 35\n",
            "7x6 = 42\n",
            "7x7 = 49\n",
            "7x8 = 56\n",
            "7x9 = 63\n",
            "7x10 = 70\n",
            "\n",
            "8x1 = 8\n",
            "8x2 = 16\n",
            "8x3 = 24\n",
            "8x4 = 32\n",
            "8x5 = 40\n",
            "8x6 = 48\n",
            "8x7 = 56\n",
            "8x8 = 64\n",
            "8x9 = 72\n",
            "8x10 = 80\n",
            "\n",
            "9x1 = 9\n",
            "9x2 = 18\n",
            "9x3 = 27\n",
            "9x4 = 36\n",
            "9x5 = 45\n",
            "9x6 = 54\n",
            "9x7 = 63\n",
            "9x8 = 72\n",
            "9x9 = 81\n",
            "9x10 = 90\n",
            "\n",
            "10x1 = 10\n",
            "10x2 = 20\n",
            "10x3 = 30\n",
            "10x4 = 40\n",
            "10x5 = 50\n",
            "10x6 = 60\n",
            "10x7 = 70\n",
            "10x8 = 80\n",
            "10x9 = 90\n",
            "10x10 = 100\n",
            "\n"
          ]
        }
      ]
    },
    {
      "cell_type": "code",
      "source": [
        "tabuada = 1\n",
        "numero = 1\n",
        "while tabuada <= 10:\n",
        "  print(f\"{tabuada}x{numero} = {tabuada * numero}\")\n",
        "  numero +=1\n",
        "  if numero == 11:\n",
        "     numero = 1\n",
        "     print(\"\")\n",
        "     tabuada +=1"
      ],
      "metadata": {
        "colab": {
          "base_uri": "https://localhost:8080/"
        },
        "id": "apHOVIDpD8PY",
        "outputId": "4f8ff7da-547f-4874-b4b8-bae3640d5b97"
      },
      "execution_count": 7,
      "outputs": [
        {
          "output_type": "stream",
          "name": "stdout",
          "text": [
            "1x1 = 1\n",
            "1x2 = 2\n",
            "1x3 = 3\n",
            "1x4 = 4\n",
            "1x5 = 5\n",
            "1x6 = 6\n",
            "1x7 = 7\n",
            "1x8 = 8\n",
            "1x9 = 9\n",
            "1x10 = 10\n",
            "\n",
            "2x1 = 2\n",
            "2x2 = 4\n",
            "2x3 = 6\n",
            "2x4 = 8\n",
            "2x5 = 10\n",
            "2x6 = 12\n",
            "2x7 = 14\n",
            "2x8 = 16\n",
            "2x9 = 18\n",
            "2x10 = 20\n",
            "\n",
            "3x1 = 3\n",
            "3x2 = 6\n",
            "3x3 = 9\n",
            "3x4 = 12\n",
            "3x5 = 15\n",
            "3x6 = 18\n",
            "3x7 = 21\n",
            "3x8 = 24\n",
            "3x9 = 27\n",
            "3x10 = 30\n",
            "\n",
            "4x1 = 4\n",
            "4x2 = 8\n",
            "4x3 = 12\n",
            "4x4 = 16\n",
            "4x5 = 20\n",
            "4x6 = 24\n",
            "4x7 = 28\n",
            "4x8 = 32\n",
            "4x9 = 36\n",
            "4x10 = 40\n",
            "\n",
            "5x1 = 5\n",
            "5x2 = 10\n",
            "5x3 = 15\n",
            "5x4 = 20\n",
            "5x5 = 25\n",
            "5x6 = 30\n",
            "5x7 = 35\n",
            "5x8 = 40\n",
            "5x9 = 45\n",
            "5x10 = 50\n",
            "\n",
            "6x1 = 6\n",
            "6x2 = 12\n",
            "6x3 = 18\n",
            "6x4 = 24\n",
            "6x5 = 30\n",
            "6x6 = 36\n",
            "6x7 = 42\n",
            "6x8 = 48\n",
            "6x9 = 54\n",
            "6x10 = 60\n",
            "\n",
            "7x1 = 7\n",
            "7x2 = 14\n",
            "7x3 = 21\n",
            "7x4 = 28\n",
            "7x5 = 35\n",
            "7x6 = 42\n",
            "7x7 = 49\n",
            "7x8 = 56\n",
            "7x9 = 63\n",
            "7x10 = 70\n",
            "\n",
            "8x1 = 8\n",
            "8x2 = 16\n",
            "8x3 = 24\n",
            "8x4 = 32\n",
            "8x5 = 40\n",
            "8x6 = 48\n",
            "8x7 = 56\n",
            "8x8 = 64\n",
            "8x9 = 72\n",
            "8x10 = 80\n",
            "\n",
            "9x1 = 9\n",
            "9x2 = 18\n",
            "9x3 = 27\n",
            "9x4 = 36\n",
            "9x5 = 45\n",
            "9x6 = 54\n",
            "9x7 = 63\n",
            "9x8 = 72\n",
            "9x9 = 81\n",
            "9x10 = 90\n",
            "\n",
            "10x1 = 10\n",
            "10x2 = 20\n",
            "10x3 = 30\n",
            "10x4 = 40\n",
            "10x5 = 50\n",
            "10x6 = 60\n",
            "10x7 = 70\n",
            "10x8 = 80\n",
            "10x9 = 90\n",
            "10x10 = 100\n",
            "\n"
          ]
        }
      ]
    },
    {
      "cell_type": "code",
      "source": [
        "tabuada = 1\n",
        "while True:\n",
        " e = input(str(\"De qual operação deseja imprimir a tabuada?\\n Para divisão digite D, pra multiplicação M, para adição A, para subitração S. Para sair escreva: sair\\n  \"))\n",
        " if e == \"sair\":\n",
        "  break\n",
        "\n",
        " else:\n",
        "  while tabuada <=10:\n",
        "     numero = 1\n",
        "     while numero <=10:\n",
        "         if e == \"D\":\n",
        "          print(f\"{tabuada}/{numero} = {tabuada/numero}\")\n",
        "          numero +=1\n",
        "     tabuada +=1\n",
        "     print(\"\")\n",
        "\n",
        "         if e == \"M\":\n",
        "          print(f\"{tabuada}x{numero} = {tabuada*numero}\")\n",
        "         numero +=1\n",
        "     tabuada +=1\n",
        "     print(\"\")\n",
        "\n",
        "         if e == \"A\":\n",
        "          print(f\"{tabuada}+{numero} = {tabuada+numero}\")\n",
        "         numero +=1\n",
        "     tabuada +=1\n",
        "     print(\"\")\n",
        "\n",
        "         if e == \"S\":\n",
        "          print(f\"{tabuada}-{numero} = {tabuada-numero}\")\n",
        "         numero +=1\n",
        "     tabuada +=1\n",
        "     print(\"\")\n",
        "\n",
        ""
      ],
      "metadata": {
        "id": "UI5wdIfZE5U6"
      },
      "execution_count": null,
      "outputs": []
    },
    {
      "cell_type": "code",
      "source": [
        "tabuada = 1\n",
        "while True:\n",
        " e = input(str(\"De qual operação deseja imprimir a tabuada?\\n Para divisão digite D, pra multiplicação M, para adição A, para subitração S. Para sair escreva: sair\\n  \"))\n",
        " if e == \"sair\":\n",
        "  break\n",
        "\n",
        " elif e == \"D\":\n",
        "   while tabuada <=10:\n",
        "     numero = 1\n",
        "     while numero <=10:\n",
        "          print(f\"{tabuada}/{numero} = {tabuada/numero:.2f}\")\n",
        "          numero +=1\n",
        "     tabuada +=1\n",
        "     print(\"\")\n",
        "\n",
        " elif e == \"M\":\n",
        "   while tabuada <=10:\n",
        "     numero = 1\n",
        "     while numero <=10:\n",
        "          print(f\"{tabuada}x{numero} = {tabuada*numero}\")\n",
        "          numero +=1\n",
        "     tabuada +=1\n",
        "     print(\"\")\n",
        "\n",
        " elif e == \"A\":\n",
        "   while tabuada <=10:\n",
        "     numero = 1\n",
        "     while numero <=10:\n",
        "          print(f\"{tabuada}+{numero} = {tabuada+numero}\")\n",
        "          numero +=1\n",
        "     tabuada +=1\n",
        "     print(\"\")\n",
        "\n",
        " elif e == \"S\":\n",
        "   while tabuada <=10:\n",
        "     numero = 1\n",
        "     while numero <=10:\n",
        "          print(f\"{tabuada}-{numero} = {tabuada-numero}\")\n",
        "          numero +=1\n",
        "     tabuada +=1\n",
        "     print(\"\")\n",
        ""
      ],
      "metadata": {
        "colab": {
          "base_uri": "https://localhost:8080/"
        },
        "id": "NjQQ7nBHNLgK",
        "outputId": "f209b679-572b-4161-f156-fd576d232afe"
      },
      "execution_count": 12,
      "outputs": [
        {
          "name": "stdout",
          "output_type": "stream",
          "text": [
            "De qual operação deseja imprimir a tabuada?\n",
            " Para divisão digite D, pra multiplicação M, para adição A, para subitração S. Para sair escreva: sair\n",
            "  sair\n"
          ]
        }
      ]
    },
    {
      "cell_type": "code",
      "source": [],
      "metadata": {
        "id": "tEQLLkFgKpS-"
      },
      "execution_count": null,
      "outputs": []
    }
  ],
  "metadata": {
    "colab": {
      "provenance": [],
      "authorship_tag": "ABX9TyP8rLByDCfSUIql0+EpLAhN",
      "include_colab_link": true
    },
    "kernelspec": {
      "display_name": "Python 3",
      "name": "python3"
    },
    "language_info": {
      "name": "python"
    }
  },
  "nbformat": 4,
  "nbformat_minor": 0
}