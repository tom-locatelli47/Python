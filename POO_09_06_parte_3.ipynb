{
  "nbformat": 4,
  "nbformat_minor": 0,
  "metadata": {
    "colab": {
      "provenance": [],
      "include_colab_link": true
    },
    "kernelspec": {
      "name": "python3",
      "display_name": "Python 3"
    },
    "language_info": {
      "name": "python"
    }
  },
  "cells": [
    {
      "cell_type": "markdown",
      "metadata": {
        "id": "view-in-github",
        "colab_type": "text"
      },
      "source": [
        "<a href=\"https://colab.research.google.com/github/tom-locatelli47/Python/blob/main/POO_09_06_parte_3.ipynb\" target=\"_parent\"><img src=\"https://colab.research.google.com/assets/colab-badge.svg\" alt=\"Open In Colab\"/></a>"
      ]
    },
    {
      "cell_type": "markdown",
      "source": [
        "# **Etapa #3**. **Empenhe-se para ter um projeto reutilizável e que possa ser mantido\n",
        "\n",
        "\n"
      ],
      "metadata": {
        "id": "NhwkCWFiFtXf"
      }
    },
    {
      "cell_type": "markdown",
      "source": [],
      "metadata": {
        "id": "7l0kXIPsFeSG"
      }
    },
    {
      "cell_type": "code",
      "execution_count": 51,
      "metadata": {
        "id": "VSl9tGw6HK_W"
      },
      "outputs": [],
      "source": [
        "# Observe que em Python usamos a classe \"Enum\" do módulo \"enum\" em vez de \"enumeração\"\n",
        "# \"Enum\" é um tipo de dados embutido em Python. É usado para criar um conjunto finito de constantes.\n",
        "# \"Enum\" é uma coleção de nomes e valores simbólicos. É um atalho para enumeração e pode ser importado do módulo \"enum\"\n",
        "# Uma das grandes vantagens de usar \"enums\" é que ele limita os possíveis valores\n",
        "# que você pode fornecer a um método... sem mais erros ortográficos ou problemas de maiúsculas e minúsculas\n",
        "from enum import Enum\n",
        "\n",
        "# Podemos nos referir a eles como Wood.SITKA ou Builder.GIBSON\n",
        "# e evitar todas essas comparações de strings completamente\n",
        "class Builder(Enum):\n",
        "    FENDER = \"fender\"\n",
        "    MARTIN = \"martin\"\n",
        "    GIBSON = \"gibson\"\n",
        "    COLLINGS = \"collings\"\n",
        "    OLSON = \"olson\"\n",
        "    RYAN = \"ryan\"\n",
        "    PRS = \"prs\"\n",
        "    ANY = \"any\"\n",
        "\n",
        "#Cada \"enum\" toma o lugar de uma das propriedades de uma guitarra\n",
        "class TypeG(Enum):\n",
        "    ACOUSTIC = \"acoustic\"\n",
        "    ELETRIC = \"eletric\"\n",
        "\n",
        "\n",
        "# Podemos nos referir a eles como Wood.SITKA ou Builder.GIBSON\n",
        "# e evitar todas essas comparações de strings completamente\n",
        "class Wood(Enum):\n",
        "    INDIAN_ROSEWOOD = \"indian_rosewood\"\n",
        "    BRAZILIAN_ROSEWOOD = \"brazilian_rosewood\"\n",
        "    MAHOGANY = \"mahogany\"\n",
        "    MAPLE = \"maple\"\n",
        "    COCOBOLO = \"ococobolo\"\n",
        "    CEDAR = \"cedar\"\n",
        "    ADIRONDACK = \"adirondack\"\n",
        "    ALDER = \"alder\"\n",
        "    SITKA = \"sitka\"\n"
      ]
    },
    {
      "cell_type": "markdown",
      "source": [
        "**Código para a Classe Guitar**"
      ],
      "metadata": {
        "id": "GFGP1Bch6eMN"
      }
    },
    {
      "cell_type": "code",
      "source": [
        "#Classe Guitar\n",
        "class Guitar:\n",
        "    def __init__(self, serial_number, price,spec):\n",
        "        self.serial_number = serial_number\n",
        "        self.price = price\n",
        "        self.spec = spec\n",
        "\n",
        "\n",
        "    def get_serial_number(self):\n",
        "        return self.serial_number\n",
        "\n",
        "    def get_price(self):\n",
        "        return self.price\n",
        "\n",
        "    def set_price(self, new_price):\n",
        "        self.price = new_price\n",
        "\n",
        "    def get_spec(self):\n",
        "      return self.spec\n",
        "\n"
      ],
      "metadata": {
        "id": "1QaSiFDI6gph"
      },
      "execution_count": 52,
      "outputs": []
    },
    {
      "cell_type": "markdown",
      "source": [
        "**Código para a Classe Inventory**\n",
        "\n"
      ],
      "metadata": {
        "id": "jxpAmfOa6t7j"
      }
    },
    {
      "cell_type": "code",
      "source": [
        "#Classe GuitarSpec\n",
        "class GuitarSpec:\n",
        "  def __init__(self, builder, model, typeg, back_wood, top_wood, numString):\n",
        "      self.builder = builder\n",
        "      self.model = model\n",
        "      self.typeg = typeg\n",
        "      self.back_wood = back_wood\n",
        "      self.top_wood = top_wood\n",
        "      self.numString = numString\n",
        "\n",
        "  def get_builder(self):\n",
        "        return self.builder\n",
        "\n",
        "  def get_typeg(self):\n",
        "        return self.typeg\n",
        "\n",
        "  def get_model(self):\n",
        "        return self.model\n",
        "\n",
        "  def get_back_wood(self):\n",
        "        return self.back_wood\n",
        "\n",
        "  def get_top_wood(self):\n",
        "        return self.top_wood\n",
        "\n",
        "  def get_numString(self):\n",
        "        return self.numString\n",
        "\n",
        "  def matches(self, otherSpec):\n",
        "        if self.builder != otherSpec.get_builder():\n",
        "            return False\n",
        "        if self.model and self.model.lower() != otherSpec.get_model().lower():\n",
        "            return False\n",
        "        if self.typeg != otherSpec.get_typeg():\n",
        "            return False\n",
        "        if self.back_wood != otherSpec.get_back_wood():\n",
        "            return False\n",
        "        if self.top_wood != otherSpec.get_top_wood():\n",
        "            return False\n",
        "        if self.numString != otherSpec.get_numString():\n",
        "            return False\n",
        "        return True\n",
        "\n",
        "\n",
        "\n",
        "#Classe Inventory\n",
        "class Inventory:\n",
        "    def __init__(self):\n",
        "        self.guitars = []\n",
        "\n",
        "    def add_guitar(self, serial_number, price, spec):\n",
        "        guitar = Guitar(serial_number, price, spec)\n",
        "        self.guitars.append(guitar)\n",
        "\n",
        "    def get_guitar(self, serial_number):\n",
        "        for guitar in self.guitars:\n",
        "            if guitar.get_serial_number() == serial_number:\n",
        "                return guitar\n",
        "        return None\n",
        "\n",
        "    def search(self, searchGuitar):\n",
        "        lista_guitaras = []\n",
        "        for guitar in self.guitars:\n",
        "            if guitar.get_spec().matches(searchGuitar):\n",
        "                lista_guitaras.append(guitar)\n",
        "\n",
        "        return lista_guitaras\n"
      ],
      "metadata": {
        "id": "xZFD6c1C6wlU"
      },
      "execution_count": 59,
      "outputs": []
    },
    {
      "cell_type": "code",
      "source": [
        "def initializeInventory(inventory):\n",
        "    spec1 = GuitarSpec(Builder.FENDER, \"stratocastor\", TypeG.ELETRIC, Wood.ALDER, Wood.ALDER, 6)\n",
        "    inventory.add_guitar(\"V95693\", 1499.95, spec1)\n",
        "    inventory.add_guitar(\"V99999\", 1599.95, spec1)\n",
        "\n",
        "    #spec2 = GuitarSpec(Builder.MARTIN, \"D-18\", TypeG.ACOUSTIC, Wood.MAHOGANY, Wood.ADIRONDACK, 6)\n",
        "    #inventory.add_guitar(\"122784\", 5495.95, spec2)\n",
        "    #inventory.add_guitar(\"76531\", 6295.95, Builder.MARTIN, \"OM-28\", TypeG.ACOUSTIC, Wood.BRAZILIAN_ROSEWOOD, Wood.ADIRONDACK, 6)\n",
        "    #inventory.add_guitar(\"70108276\", 2295.95, Builder.GIBSON, \"Les Paul\", TypeG.ELETRIC, Wood.MAHOGANY, Wood.MAHOGANY, 6)\n",
        "    #inventory.add_guitar(\"82765501\", 1890.95, Builder.GIBSON, \"SG '61 Reissue\", TypeG.ELETRIC, Wood.MAHOGANY, Wood.MAHOGANY, 6)\n",
        "    #inventory.add_guitar(\"77023\", 6275.95, Builder.MARTIN, \"D-28\", TypeG.ACOUSTIC, Wood.BRAZILIAN_ROSEWOOD, Wood.ADIRONDACK, 6)\n",
        "\n",
        "\n",
        "def main():\n",
        "    inventory = Inventory()\n",
        "    initializeInventory(inventory)\n",
        "\n",
        "    whatErinLikes = GuitarSpec(Builder.FENDER, \"Stratocastor\", TypeG.ELETRIC, Wood.ALDER, Wood.ALDER, 6)\n",
        "    matchingGuitars = inventory.search(whatErinLikes)\n",
        "\n",
        "    if matchingGuitars:\n",
        "        print(\"Erin, talvez você goste destas: \")\n",
        "        for guitar in matchingGuitars:\n",
        "            guitarSpec = guitar.get_spec()\n",
        "            print(f\"\\nGuitarra: {guitar.get_serial_number()} {guitarSpec.get_builder().value} {guitarSpec.get_model()} {guitarSpec.get_typeg().value} guitar:\\n{guitarSpec.get_back_wood().value} na traseira e laterais,\\n{guitarSpec.get_top_wood().value} no tampo, com {guitarSpec.get_numString()} cordas\\nEla pode ser sua por apenas US${guitar.get_price():.2f}!\")\n",
        "    else:\n",
        "        print(\"Desculpe Erin, não temos nada para você\")\n",
        "\n",
        "if __name__ == '__main__':\n",
        "    main()\n"
      ],
      "metadata": {
        "id": "lDrKVpKFDszc",
        "colab": {
          "base_uri": "https://localhost:8080/"
        },
        "outputId": "68cc6d1a-12ec-4efb-a109-4e58c70e9073"
      },
      "execution_count": 64,
      "outputs": [
        {
          "output_type": "stream",
          "name": "stdout",
          "text": [
            "Erin, talvez você goste destas: \n",
            "\n",
            "Guitarra: V95693 fender stratocastor eletric guitar:\n",
            "alder na traseira e laterais,\n",
            "alder no tampo, com 6 cordas\n",
            "Ela pode ser sua por apenas US$1499.95!\n",
            "\n",
            "Guitarra: V99999 fender stratocastor eletric guitar:\n",
            "alder na traseira e laterais,\n",
            "alder no tampo, com 6 cordas\n",
            "Ela pode ser sua por apenas US$1599.95!\n"
          ]
        }
      ]
    }
  ]
}